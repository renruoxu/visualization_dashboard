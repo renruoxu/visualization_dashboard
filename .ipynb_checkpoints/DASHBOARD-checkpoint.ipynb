{
 "cells": [
  {
   "cell_type": "markdown",
   "metadata": {
    "extensions": {
     "jupyter_dashboards": {
      "version": 1,
      "views": {
       "grid_default": {
        "col": 0,
        "height": 4,
        "hidden": false,
        "row": 0,
        "width": 6
       },
       "report_default": {
        "hidden": false
       }
      }
     }
    }
   },
   "source": [
    "# Dashboard for statistics of cars\n",
    "### Which car suits you better?"
   ]
  },
  {
   "cell_type": "markdown",
   "metadata": {
    "extensions": {
     "jupyter_dashboards": {
      "version": 1,
      "views": {
       "grid_default": {
        "col": 2,
        "height": 5,
        "hidden": false,
        "row": 8,
        "width": 2
       },
       "report_default": {}
      }
     }
    }
   },
   "source": [
    "<img src='car1.jpg' height=200 width=200>"
   ]
  },
  {
   "cell_type": "markdown",
   "metadata": {
    "extensions": {
     "jupyter_dashboards": {
      "version": 1,
      "views": {
       "grid_default": {
        "col": 0,
        "height": 4,
        "hidden": false,
        "row": 8,
        "width": 2
       },
       "report_default": {}
      }
     }
    }
   },
   "source": [
    "<img src='car2.png' height=200 width=200>"
   ]
  },
  {
   "cell_type": "markdown",
   "metadata": {
    "extensions": {
     "jupyter_dashboards": {
      "version": 1,
      "views": {
       "grid_default": {
        "col": 0,
        "height": 4,
        "hidden": false,
        "row": 4,
        "width": 2
       },
       "report_default": {}
      }
     }
    }
   },
   "source": [
    "<img src='car3.jpg' height=200 width=200>"
   ]
  },
  {
   "cell_type": "markdown",
   "metadata": {
    "extensions": {
     "jupyter_dashboards": {
      "version": 1,
      "views": {
       "grid_default": {
        "col": 2,
        "height": 4,
        "hidden": false,
        "row": 4,
        "width": 2
       },
       "report_default": {}
      }
     }
    }
   },
   "source": [
    "<img src='car4.png' height=200 width=200>"
   ]
  },
  {
   "cell_type": "markdown",
   "metadata": {
    "extensions": {
     "jupyter_dashboards": {
      "version": 1,
      "views": {
       "grid_default": {
        "col": 5,
        "height": 2,
        "hidden": false,
        "row": 4,
        "width": 4
       },
       "report_default": {}
      }
     }
    }
   },
   "source": [
    "## Sample data"
   ]
  },
  {
   "cell_type": "raw",
   "metadata": {
    "extensions": {
     "jupyter_dashboards": {
      "version": 1,
      "views": {
       "grid_default": {
        "hidden": true
       },
       "report_default": {
        "hidden": false
       }
      }
     }
    }
   },
   "source": [
    "pip install jupyter -U"
   ]
  },
  {
   "cell_type": "markdown",
   "metadata": {
    "extensions": {
     "jupyter_dashboards": {
      "version": 1,
      "views": {
       "grid_default": {
        "col": 0,
        "height": 4,
        "hidden": true,
        "row": 2,
        "width": 4
       },
       "report_default": {
        "hidden": false
       }
      }
     }
    }
   },
   "source": [
    "- Install Jupyter Dashboard:"
   ]
  },
  {
   "cell_type": "raw",
   "metadata": {
    "extensions": {
     "jupyter_dashboards": {
      "version": 1,
      "views": {
       "grid_default": {
        "hidden": true
       },
       "report_default": {
        "hidden": false
       }
      }
     }
    }
   },
   "source": [
    "pip install jupyter_dashboards\n",
    "\n",
    "jupyter dashboards quick-setup --sys-prefix"
   ]
  },
  {
   "cell_type": "markdown",
   "metadata": {
    "extensions": {
     "jupyter_dashboards": {
      "version": 1,
      "views": {
       "grid_default": {
        "col": 4,
        "height": 4,
        "hidden": true,
        "row": 2,
        "width": 4
       },
       "report_default": {
        "hidden": false
       }
      }
     }
    }
   },
   "source": [
    "After installation, you should see the tool bar as shown in the following picture\n",
    "\n",
    "<img src='dashboard_bar.png'>"
   ]
  },
  {
   "cell_type": "markdown",
   "metadata": {
    "extensions": {
     "jupyter_dashboards": {
      "version": 1,
      "views": {
       "grid_default": {
        "hidden": true
       },
       "report_default": {
        "hidden": true
       }
      }
     }
    }
   },
   "source": [
    "- Install Brunel using first command\n",
    "\n",
    "(Note: If the visualization is not visible, type the second command)"
   ]
  },
  {
   "cell_type": "raw",
   "metadata": {
    "extensions": {
     "jupyter_dashboards": {
      "version": 1,
      "views": {
       "grid_default": {
        "hidden": true
       },
       "report_default": {
        "hidden": false
       }
      }
     }
    }
   },
   "source": [
    "pip install brunel\n",
    "pip install brunel --user"
   ]
  },
  {
   "cell_type": "markdown",
   "metadata": {
    "extensions": {
     "jupyter_dashboards": {
      "version": 1,
      "views": {
       "grid_default": {
        "col": 0,
        "height": 12,
        "hidden": true,
        "row": 2,
        "width": 12
       },
       "report_default": {
        "hidden": false
       }
      }
     }
    }
   },
   "source": [
    "# Data\n",
    "### [Car statistics](https://github.com/Brunel-Visualization/Brunel/raw/master/python/examples/data/cars.csv) from Brunel's demenstration\n",
    "Attributes of data\n",
    "- mpg: miles per gallon\n",
    "- cylinders\n",
    "- engine\n",
    "- horsepower\n",
    "- weight\n",
    "- acceleration\n",
    "- year\n",
    "- origin\n",
    "- name"
   ]
  },
  {
   "cell_type": "markdown",
   "metadata": {
    "extensions": {
     "jupyter_dashboards": {
      "version": 1,
      "views": {
       "grid_default": {
        "col": 8,
        "height": 4,
        "hidden": true,
        "row": 0,
        "width": 4
       },
       "report_default": {
        "hidden": false
       }
      }
     }
    }
   },
   "source": [
    "## Step 1: load data"
   ]
  },
  {
   "cell_type": "raw",
   "metadata": {
    "extensions": {
     "jupyter_dashboards": {
      "version": 1,
      "views": {
       "grid_default": {
        "hidden": true
       },
       "report_default": {
        "hidden": false
       }
      }
     }
    }
   },
   "source": [
    "import pandas as pd\n",
    "import brunel\n",
    "\n",
    "cars = pd.read_csv(\"https://github.com/Brunel-Visualization/Brunel/raw/master/python/examples/data/cars.csv\")\n",
    "cars.head(5)"
   ]
  },
  {
   "cell_type": "code",
   "execution_count": 5,
   "metadata": {
    "collapsed": false,
    "extensions": {
     "jupyter_dashboards": {
      "version": 1,
      "views": {
       "grid_default": {
        "col": 5,
        "height": 10,
        "hidden": false,
        "row": 6,
        "width": 7
       },
       "report_default": {
        "hidden": false
       }
      }
     }
    }
   },
   "outputs": [
    {
     "data": {
      "text/html": [
       "<div>\n",
       "<table border=\"1\" class=\"dataframe\">\n",
       "  <thead>\n",
       "    <tr style=\"text-align: right;\">\n",
       "      <th></th>\n",
       "      <th>mpg</th>\n",
       "      <th>cylinders</th>\n",
       "      <th>engine</th>\n",
       "      <th>horsepower</th>\n",
       "      <th>weight</th>\n",
       "      <th>acceleration</th>\n",
       "      <th>year</th>\n",
       "      <th>origin</th>\n",
       "      <th>name</th>\n",
       "    </tr>\n",
       "  </thead>\n",
       "  <tbody>\n",
       "    <tr>\n",
       "      <th>0</th>\n",
       "      <td>18.0</td>\n",
       "      <td>8</td>\n",
       "      <td>307.0</td>\n",
       "      <td>130.0</td>\n",
       "      <td>3504</td>\n",
       "      <td>12.0</td>\n",
       "      <td>70</td>\n",
       "      <td>American</td>\n",
       "      <td>chevrolet chevelle malibu</td>\n",
       "    </tr>\n",
       "    <tr>\n",
       "      <th>1</th>\n",
       "      <td>15.0</td>\n",
       "      <td>8</td>\n",
       "      <td>350.0</td>\n",
       "      <td>165.0</td>\n",
       "      <td>3693</td>\n",
       "      <td>11.5</td>\n",
       "      <td>70</td>\n",
       "      <td>American</td>\n",
       "      <td>buick skylark 320</td>\n",
       "    </tr>\n",
       "    <tr>\n",
       "      <th>2</th>\n",
       "      <td>18.0</td>\n",
       "      <td>8</td>\n",
       "      <td>318.0</td>\n",
       "      <td>150.0</td>\n",
       "      <td>3436</td>\n",
       "      <td>11.0</td>\n",
       "      <td>70</td>\n",
       "      <td>American</td>\n",
       "      <td>plymouth satellite</td>\n",
       "    </tr>\n",
       "    <tr>\n",
       "      <th>3</th>\n",
       "      <td>16.0</td>\n",
       "      <td>8</td>\n",
       "      <td>304.0</td>\n",
       "      <td>150.0</td>\n",
       "      <td>3433</td>\n",
       "      <td>12.0</td>\n",
       "      <td>70</td>\n",
       "      <td>American</td>\n",
       "      <td>amc rebel sst</td>\n",
       "    </tr>\n",
       "    <tr>\n",
       "      <th>4</th>\n",
       "      <td>17.0</td>\n",
       "      <td>8</td>\n",
       "      <td>302.0</td>\n",
       "      <td>140.0</td>\n",
       "      <td>3449</td>\n",
       "      <td>10.5</td>\n",
       "      <td>70</td>\n",
       "      <td>American</td>\n",
       "      <td>ford torino</td>\n",
       "    </tr>\n",
       "  </tbody>\n",
       "</table>\n",
       "</div>"
      ],
      "text/plain": [
       "    mpg  cylinders  engine  horsepower  weight  acceleration  year    origin  \\\n",
       "0  18.0          8   307.0       130.0    3504          12.0    70  American   \n",
       "1  15.0          8   350.0       165.0    3693          11.5    70  American   \n",
       "2  18.0          8   318.0       150.0    3436          11.0    70  American   \n",
       "3  16.0          8   304.0       150.0    3433          12.0    70  American   \n",
       "4  17.0          8   302.0       140.0    3449          10.5    70  American   \n",
       "\n",
       "                        name  \n",
       "0  chevrolet chevelle malibu  \n",
       "1          buick skylark 320  \n",
       "2         plymouth satellite  \n",
       "3              amc rebel sst  \n",
       "4                ford torino  "
      ]
     },
     "execution_count": 5,
     "metadata": {},
     "output_type": "execute_result"
    }
   ],
   "source": [
    "import pandas as pd\n",
    "import brunel\n",
    "\n",
    "cars = pd.read_csv(\"https://github.com/Brunel-Visualization/Brunel/raw/master/python/examples/data/cars.csv\")\n",
    "cars.head(5)"
   ]
  },
  {
   "cell_type": "markdown",
   "metadata": {
    "extensions": {
     "jupyter_dashboards": {
      "version": 1,
      "views": {
       "grid_default": {
        "col": 7,
        "height": 4,
        "hidden": true,
        "row": 9,
        "width": 4
       },
       "report_default": {
        "hidden": false
       }
      }
     }
    }
   },
   "source": [
    "## Step 2: choose attributes to visualize"
   ]
  },
  {
   "cell_type": "markdown",
   "metadata": {
    "extensions": {
     "jupyter_dashboards": {
      "version": 1,
      "views": {
       "grid_default": {
        "col": 5,
        "height": 4,
        "hidden": false,
        "row": 16,
        "width": 3
       },
       "report_default": {
        "hidden": false
       }
      }
     }
    }
   },
   "source": [
    "### Horsepower vs. mpg\n",
    "- with optional filter bar for horspower\n",
    "- color hue for country of origin"
   ]
  },
  {
   "cell_type": "raw",
   "metadata": {
    "extensions": {
     "jupyter_dashboards": {
      "version": 1,
      "views": {
       "grid_default": {
        "hidden": true
       },
       "report_default": {
        "hidden": false
       }
      }
     }
    }
   },
   "source": [
    "%brunel data('cars') x(mpg) y(horsepower) color(origin) filter(horsepower) tooltip(#all):: width=550, height=200"
   ]
  },
  {
   "cell_type": "code",
   "execution_count": 10,
   "metadata": {
    "collapsed": false,
    "extensions": {
     "jupyter_dashboards": {
      "version": 1,
      "views": {
       "grid_default": {
        "col": 5,
        "height": 13,
        "hidden": false,
        "row": 20,
        "width": 7
       },
       "report_default": {
        "hidden": false
       }
      }
     }
    },
    "scrolled": false
   },
   "outputs": [
    {
     "data": {
      "text/html": [
       "<!--\n",
       "  ~ Copyright (c) 2015 IBM Corporation and others.\n",
       "  ~\n",
       "  ~ Licensed under the Apache License, Version 2.0 (the \"License\");\n",
       "  ~ You may not use this file except in compliance with the License.\n",
       "  ~ You may obtain a copy of the License at\n",
       "  ~\n",
       "  ~     http://www.apache.org/licenses/LICENSE-2.0\n",
       "  ~\n",
       "  ~ Unless required by applicable law or agreed to in writing, software\n",
       "  ~ distributed under the License is distributed on an \"AS IS\" BASIS,\n",
       "  ~ WITHOUT WARRANTIES OR CONDITIONS OF ANY KIND, either express or implied.\n",
       "  ~ See the License for the specific language governing permissions and\n",
       "  ~ limitations under the License.\n",
       "  -->\n",
       "\n",
       "\n",
       "<link rel=\"stylesheet\" type=\"text/css\" href=\"/nbextensions/brunel_ext/brunel.2.0.css\">\n",
       "<link rel=\"stylesheet\" type=\"text/css\" href=\"/nbextensions/brunel_ext/sumoselect.css\">\n",
       "\n",
       "<style>\n",
       "    \n",
       "</style>\n",
       "\n",
       "<div id=\"controlsid03d4fb2b-764e-11e6-a3cb-90b11c8ffccb\" class=\"brunel\"/>\n",
       "<svg id=\"visid03d4fb2a-764e-11e6-a3cb-90b11c8ffccb\" width=\"620\" height=\"300\"></svg>"
      ],
      "text/plain": [
       "<IPython.core.display.HTML object>"
      ]
     },
     "metadata": {},
     "output_type": "display_data"
    },
    {
     "data": {
      "application/javascript": [
       "/*\n",
       " * Copyright (c) 2015 IBM Corporation and others.\n",
       " *\n",
       " * Licensed under the Apache License, Version 2.0 (the \"License\");\n",
       " * You may not use this file except in compliance with the License.\n",
       " * You may obtain a copy of the License at\n",
       " *\n",
       " *     http://www.apache.org/licenses/LICENSE-2.0\n",
       " *\n",
       " * Unless required by applicable law or agreed to in writing, software\n",
       " * distributed under the License is distributed on an \"AS IS\" BASIS,\n",
       " * WITHOUT WARRANTIES OR CONDITIONS OF ANY KIND, either express or implied.\n",
       " * See the License for the specific language governing permissions and\n",
       " * limitations under the License.\n",
       " */\n",
       "\n",
       "require.config({\n",
       "    waitSeconds: 60,\n",
       "    paths: {\n",
       "        'd3': '//cdnjs.cloudflare.com/ajax/libs/d3/4.2.1/d3.min',\n",
       "        'topojson': '//cdnjs.cloudflare.com/ajax/libs/topojson/1.6.20/topojson.min',\n",
       "        'brunel' : '/nbextensions/brunel_ext/brunel.2.0.min',\n",
       "        'brunelControls' : '/nbextensions/brunel_ext/brunel.controls.2.0.min'\n",
       "    },\n",
       "    shim: {\n",
       "       'brunel' : {\n",
       "            exports: 'BrunelD3',\n",
       "            deps: ['d3', 'topojson'],\n",
       "            init: function() {\n",
       "               return {\n",
       "                 BrunelD3 : BrunelD3,\n",
       "                 BrunelData : BrunelData\n",
       "              }\n",
       "            }\n",
       "        },\n",
       "       'brunelControls' : {\n",
       "            exports: 'BrunelEventHandlers',\n",
       "            init: function() {\n",
       "               return {\n",
       "                 BrunelEventHandlers: BrunelEventHandlers,\n",
       "                 BrunelJQueryControlFactory: BrunelJQueryControlFactory\n",
       "              }\n",
       "            }\n",
       "        }\n",
       "\n",
       "    }\n",
       "\n",
       "});\n",
       "\n",
       "require([\"d3\"], function(d3) {\n",
       "    require([\"brunel\", \"brunelControls\"], function(brunel, brunelControls) {\n",
       "        function  BrunelVis(visId) {\n",
       "  \"use strict\"; // Strict Mode\n",
       "  var datasets = [],                               // Array of datasets for the original data\n",
       "      pre = function(d, i) { return d },           // Default pre-process does nothing\n",
       "      post = function(d, i) { return d },          // Default post-process does nothing\n",
       "      transitionTime = 200,                        // Transition time for animations\n",
       "      charts = [],                                 // The charts in the system\n",
       "      hasData = function(d) {return d && (d.row != null || hasData(d.data))}, // Filters to data items\n",
       "      vis = d3.select('#' + visId).attr('class', 'brunel');  // the SVG container\n",
       "\n",
       "  // Define chart #1 in the visualization //////////////////////////////////////////////////////////\n",
       "\n",
       "  charts[0] = function(parentNode, filterRows) {\n",
       "    var geom = BrunelD3.geometry(parentNode || vis.node(), 0, 0, 1, 1, 5, 46, 39, 96),\n",
       "      elements = [];                               // Array of elements in this chart\n",
       "\n",
       "    // Define groups for the chart parts ///////////////////////////////////////////////////////////\n",
       "\n",
       "    var chart =  vis.append('g').attr('class', 'chart1')\n",
       "      .attr('transform','translate(' + geom.chart_left + ',' + geom.chart_top + ')');\n",
       "    var overlay = chart.append('g').attr('class', 'element')\n",
       "      .attr('class', 'overlay').style('cursor','move').style('fill','none').style('pointer-events','all');\n",
       "    var zoom = d3.zoom().scaleExtent([1/3,3]);\n",
       "    var zoomNode = overlay.append('rect').attr('class', 'overlay')\n",
       "      .attr('x', geom.inner_left).attr('y', geom.inner_top)\n",
       "      .attr('width', geom.inner_rawWidth).attr('height', geom.inner_rawHeight)\n",
       "      .call(zoom)\n",
       "      .node();\n",
       "    zoomNode.__zoom = d3.zoomIdentity;\n",
       "    chart.append('rect').attr('class', 'background').attr('width', geom.chart_right-geom.chart_left).attr('height', geom.chart_bottom-geom.chart_top);\n",
       "    var interior = chart.append('g').attr('class', 'interior')\n",
       "      .attr('transform','translate(' + geom.inner_left + ',' + geom.inner_top + ')')\n",
       "      .attr('clip-path', 'url(#clip_visid03d4fb2a-764e-11e6-a3cb-90b11c8ffccb_chart1_inner)');\n",
       "    interior.append('rect').attr('class', 'inner').attr('width', geom.inner_width).attr('height', geom.inner_height);\n",
       "    var gridGroup = interior.append('g').attr('class', 'grid');\n",
       "    var axes = chart.append('g').attr('class', 'axis')\n",
       "      .attr('transform','translate(' + geom.inner_left + ',' + geom.inner_top + ')');\n",
       "    var legends = chart.append('g').attr('class', 'legend')\n",
       "      .attr('transform','translate(' + (geom.chart_right-geom.chart_left - 3) + ',' + 0 + ')');\n",
       "    vis.append('clipPath').attr('id', 'clip_visid03d4fb2a-764e-11e6-a3cb-90b11c8ffccb_chart1_inner').append('rect')\n",
       "      .attr('x', 0).attr('y', 0)\n",
       "      .attr('width', geom.inner_rawWidth+1).attr('height', geom.inner_rawHeight+1);\n",
       "\n",
       "    // Scales //////////////////////////////////////////////////////////////////////////////////////\n",
       "\n",
       "    var scale_x = d3.scaleLinear()\n",
       "      .domain([5, 50.000005])\n",
       "      .range([0, geom.inner_width]);\n",
       "    var scale_inner = d3.scaleLinear().domain([0,1])\n",
       "      .range([-0.5, 0.5]);\n",
       "    var scale_y = d3.scaleSqrt()\n",
       "      .domain([40, 240.00002])\n",
       "      .range([geom.inner_height, 0]);\n",
       "    var base_scales = [scale_x, scale_y];          // Untransformed original scales\n",
       "\n",
       "    // Axes ////////////////////////////////////////////////////////////////////////////////////////\n",
       "\n",
       "    axes.append('g').attr('class', 'x axis')\n",
       "      .attr('transform','translate(0,' + geom.inner_rawHeight + ')')\n",
       "      .attr('clip-path', 'url(#clip_visid03d4fb2a-764e-11e6-a3cb-90b11c8ffccb_chart1_haxis)');\n",
       "    vis.append('clipPath').attr('id', 'clip_visid03d4fb2a-764e-11e6-a3cb-90b11c8ffccb_chart1_haxis').append('polyline')\n",
       "      .attr('points', '-1,-1000, -1,-1 -5,5, -1000,5, -100,1000, 10000,1000 10000,-1000');\n",
       "    axes.select('g.axis.x').append('text').attr('class', 'title').text('Mpg').style('text-anchor', 'middle')\n",
       "      .attr('x',geom.inner_rawWidth/2)\n",
       "      .attr('y', geom.inner_bottom - 2.0).attr('dy','-0.27em');\n",
       "    axes.append('g').attr('class', 'y axis')\n",
       "      .attr('clip-path', 'url(#clip_visid03d4fb2a-764e-11e6-a3cb-90b11c8ffccb_chart1_vaxis)');\n",
       "    vis.append('clipPath').attr('id', 'clip_visid03d4fb2a-764e-11e6-a3cb-90b11c8ffccb_chart1_vaxis').append('polyline')\n",
       "      .attr('points', '-1000,-10000, 10000,-10000, 10000,' + (geom.inner_rawHeight+1) + ', -1,' + (geom.inner_rawHeight+1) + ', -1,' + (geom.inner_rawHeight+5) + ', -1000,' + (geom.inner_rawHeight+5) );\n",
       "    axes.select('g.axis.y').append('text').attr('class', 'title').text('Horsepower').style('text-anchor', 'middle')\n",
       "      .attr('x',-geom.inner_rawHeight/2)\n",
       "      .attr('y', 4-geom.inner_left).attr('dy', '0.7em').attr('transform', 'rotate(270)');\n",
       "\n",
       "    var axis_bottom = d3.axisBottom(scale_x).tickSizeInner(3).tickPadding(3).tickSizeOuter(0)\n",
       "      .ticks(Math.min(10, Math.round(geom.inner_width / 37.5)));\n",
       "    var axis_left = d3.axisLeft(scale_y).tickSizeInner(3).tickPadding(3).tickSizeOuter(0);\n",
       "\n",
       "    function buildAxes(time) {\n",
       "      var axis_x = axes.select('g.axis.x');\n",
       "      BrunelD3.transition(axis_x, time).call(axis_bottom.scale(scale_x));\n",
       "      var axis_y = axes.select('g.axis.y');\n",
       "      BrunelD3.transition(axis_y, time).call(axis_left.scale(scale_y));\n",
       "    }\n",
       "    zoom.on('zoom', function(t, time) {\n",
       "        t = t ||BrunelD3.restrictZoom(d3.event.transform, geom, this);\n",
       "        scale_x = t.rescaleX(base_scales[0]);\n",
       "        scale_y = t.rescaleY(base_scales[1]);\n",
       "        zoomNode.__zoom = t;\n",
       "        build(time || -1);\n",
       "    });\n",
       "\n",
       "    // Define element #1 ///////////////////////////////////////////////////////////////////////////\n",
       "\n",
       "    elements[0] = function() {\n",
       "      var original, processed,           // data sets passed in and then transformed\n",
       "        element, data,                   // Brunel element information and brunel data\n",
       "        selection, merged;               // D3 selection and merged selection\n",
       "      var elementGroup = interior.append('g').attr('class', 'element1'),\n",
       "        main = elementGroup.append('g').attr('class', 'main'),\n",
       "        labels = BrunelD3.undoTransform(elementGroup.append('g').attr('class', 'labels').attr('aria-hidden', 'true'), elementGroup);\n",
       "\n",
       "      function makeData() {\n",
       "        original = datasets[0];\n",
       "        if (filterRows) original = original.retainRows(filterRows);\n",
       "        processed = pre(original, 0)\n",
       "          .filter('mpg valid; horsepower valid');\n",
       "        processed = post(processed, 0);\n",
       "        var f0 = processed.field('mpg'),\n",
       "          f1 = processed.field('horsepower'),\n",
       "          f2 = processed.field('origin'),\n",
       "          f3 = processed.field('#row'),\n",
       "          f4 = processed.field('#selection');\n",
       "        var keyFunc = function(d) { return f3.value(d) };\n",
       "        data = {\n",
       "          mpg:          function(d) { return f0.value(d.row) },\n",
       "          horsepower:   function(d) { return f1.value(d.row) },\n",
       "          origin:       function(d) { return f2.value(d.row) },\n",
       "          $row:         function(d) { return f3.value(d.row) },\n",
       "          $selection:   function(d) { return f4.value(d.row) },\n",
       "          mpg_f:        function(d) { return f0.valueFormatted(d.row) },\n",
       "          horsepower_f: function(d) { return f1.valueFormatted(d.row) },\n",
       "          origin_f:     function(d) { return f2.valueFormatted(d.row) },\n",
       "          $row_f:       function(d) { return f3.valueFormatted(d.row) },\n",
       "          $selection_f: function(d) { return f4.valueFormatted(d.row) },\n",
       "          _split:       function(d) { return f2.value(d.row) },\n",
       "          _key:         keyFunc,\n",
       "          _rows:        BrunelD3.makeRowsWithKeys(keyFunc, processed.rowCount())\n",
       "        };\n",
       "      }\n",
       "      // Aesthetic Functions\n",
       "      var scale_color = d3.scaleOrdinal()\n",
       "        .domain(['American', 'European', 'Japanese'])\n",
       "        .range([ '#00538A', '#C10020', '#F4C800', '#007D34', '#803E75', '#FF6800', \n",
       "          '#817066', '#FFB300', '#F6768E', '#93AA00', '#53377A', '#FF8E00', '#B32851', \n",
       "          '#CEA262', '#FF7A5C', '#7F180D', '#593315', '#F13A13', '#232C16']);\n",
       "      var color = function(d) { return scale_color(data.origin(d)) };\n",
       "      BrunelD3.addLegend(legends, 'Origin', scale_color, scale_color.domain());\n",
       "\n",
       "      // Build element from data ///////////////////////////////////////////////////////////////////\n",
       "\n",
       "      function build(transitionMillis) {\n",
       "        element = elements[0];\n",
       "        var w = geom.default_point_size;\n",
       "        var x = function(d) { return scale_x(data.mpg(d))};\n",
       "        var h = geom.default_point_size;\n",
       "        var y = function(d) { return scale_y(data.horsepower(d))};\n",
       "        selection = main.selectAll('.element').data(data._rows, function(d) { return d.key});\n",
       "        var added = selection.enter().append('circle')\n",
       "          .attr('class', 'element point filled');\n",
       "\n",
       "        merged = selection.merge(added);\n",
       "        merged.filter(hasData).classed('selected', function(d) { return data.$selection(d) == '✓' });\n",
       "        BrunelD3.transition(merged, transitionMillis)\n",
       "          .attr('cx',function(d) { return scale_x(data.mpg(d))})\n",
       "          .attr('cy',function(d) { return scale_y(data.horsepower(d))})\n",
       "          .attr('r',geom.default_point_size / 2)\n",
       "          .filter(hasData)                         // following only performed for data items\n",
       "          .style('fill', color);\n",
       "\n",
       "        var tooltipLabeling = {\n",
       "          method: 'box', location: ['center', 'top'], inside: true, align: 'middle', pad: 0, dy: 0.7,\n",
       "          fit: true, granularity: 0,\n",
       "          content: function(d) {\n",
       "            return d.row == null ? null : '<span class=\"title\">Mpg: </span>'\n",
       "\t\t\t+ '<span class=\"field\">' + data.mpg_f(d) + '</span>'\n",
       "\t\t\t+ '<br/>'\n",
       "\t\t\t+ '<span class=\"title\">Horsepower: </span>'\n",
       "\t\t\t+ '<span class=\"field\">' + data.horsepower_f(d) + '</span>'\n",
       "\t\t\t+ '<br/>'\n",
       "\t\t\t+ '<span class=\"title\">Origin: </span>'\n",
       "\t\t\t+ '<span class=\"field\">' + data.origin_f(d) + '</span>'\n",
       "          }\n",
       "        };\n",
       "        BrunelD3.addTooltip(merged, tooltipLabeling, geom);\n",
       "\n",
       "        BrunelD3.transition(selection.exit(), transitionMillis/3)\n",
       "          .style('opacity', 0.5).each( function() {\n",
       "            this.remove(); if (this.__label__) this.__label__.remove()\n",
       "        });\n",
       "      }\n",
       "\n",
       "      return {\n",
       "        data:           function() { return processed },\n",
       "        original:       function() { return original },\n",
       "        internal:       function() { return data },\n",
       "        selection:      function() { return merged },\n",
       "        makeData:       makeData,\n",
       "        build:          build,\n",
       "        chart:          function() { return charts[0] },\n",
       "        group:          function() { return elementGroup },\n",
       "        fields: {\n",
       "          x:            ['mpg'],\n",
       "          y:            ['horsepower'],\n",
       "          key:          ['#row'],\n",
       "          color:        ['origin']\n",
       "        }\n",
       "      };\n",
       "    }();\n",
       "\n",
       "    function build(time, noData) {\n",
       "      var first = elements[0].data() == null;\n",
       "      if (first) time = 0; // No transition for first call\n",
       "      buildAxes(time);\n",
       "      if ((first || time > -1) && !noData)elements[0].makeData();\n",
       "      elements[0].build(time);\n",
       "    }\n",
       "\n",
       "    // Expose the following components of the chart\n",
       "    return {\n",
       "      elements : elements,\n",
       "      interior : interior,\n",
       "      scales: {x:scale_x, y:scale_y},\n",
       "      zoom: function(params, time) {\n",
       "          if (params) zoom.on('zoom').call(zoomNode, params, time);\n",
       "          return d3.zoomTransform(zoomNode);\n",
       "      },\n",
       "      build : build\n",
       "    };\n",
       "    }();\n",
       "\n",
       "  function setData(rowData, i) { datasets[i||0] = BrunelD3.makeData(rowData) }\n",
       "  function updateAll(time) { charts.forEach(function(x) {x.build(time || 0)}) }\n",
       "  function buildAll() {\n",
       "    for (var i=0;i<arguments.length;i++) setData(arguments[i], i);\n",
       "    updateAll(transitionTime);\n",
       "  }\n",
       "\n",
       "  return {\n",
       "    dataPreProcess:     function(f) { if (f) pre = f; return pre },\n",
       "    dataPostProcess:    function(f) { if (f) post = f; return post },\n",
       "    data:               function(d,i) { if (d) setData(d,i); return datasets[i||0] },\n",
       "    visId:              visId,\n",
       "    build:              buildAll,\n",
       "    rebuild:            updateAll,\n",
       "    charts:             charts\n",
       "  }\n",
       "}\n",
       "\n",
       "// Data Tables /////////////////////////////////////////////////////////////////////////////////////\n",
       "\n",
       "var table1 = {\n",
       "   names: ['mpg', 'horsepower', 'origin'], \n",
       "   options: ['numeric', 'numeric', 'string'], \n",
       "   rows: [[18, 130, 'American'], [15, 165, 'American'], [18, 150, 'American'], [16, 150, 'American'],\n",
       "  [17, 140, 'American'], [15, 198, 'American'], [14, 220, 'American'], [14, 215, 'American'],\n",
       "  [14, 225, 'American'], [15, 190, 'American'], [null, 165, 'American'], [null, 153, 'American'],\n",
       "  [null, 175, 'American'], [null, 175, 'American'], [15, 170, 'American'], [14, 160, 'American'],\n",
       "  [null, 140, 'American'], [15, 150, 'American'], [14, 225, 'American'], [22, 95, 'American'],\n",
       "  [18, 97, 'American'], [21, 85, 'American'], [21, 90, 'American'], [10, 215, 'American'],\n",
       "  [10, 200, 'American'], [11, 210, 'American'], [9, 193, 'American'], [28, 90, 'American'],\n",
       "  [25, null, 'American'], [19, 100, 'American'], [16, 105, 'American'], [17, 100, 'American'],\n",
       "  [19, 88, 'American'], [18, 100, 'American'], [14, 165, 'American'], [14, 175, 'American'],\n",
       "  [14, 153, 'American'], [14, 150, 'American'], [12, 180, 'American'], [13, 170, 'American'],\n",
       "  [13, 175, 'American'], [18, 110, 'American'], [22, 72, 'American'], [19, 100, 'American'],\n",
       "  [18, 88, 'American'], [23, 86, 'American'], [26, 70, 'American'], [25, 80, 'American'],\n",
       "  [20, 90, 'American'], [21, 86, 'American'], [13, 165, 'American'], [14, 175, 'American'],\n",
       "  [15, 150, 'American'], [14, 153, 'American'], [17, 150, 'American'], [11, 208, 'American'],\n",
       "  [13, 155, 'American'], [12, 160, 'American'], [13, 190, 'American'], [15, 150, 'American'],\n",
       "  [13, 130, 'American'], [13, 140, 'American'], [14, 150, 'American'], [22, 86, 'American'],\n",
       "  [28, 80, 'American'], [13, 175, 'American'], [14, 150, 'American'], [13, 145, 'American'],\n",
       "  [14, 137, 'American'], [15, 150, 'American'], [12, 198, 'American'], [13, 150, 'American'],\n",
       "  [13, 158, 'American'], [14, 150, 'American'], [13, 215, 'American'], [12, 225, 'American'],\n",
       "  [13, 175, 'American'], [18, 105, 'American'], [16, 100, 'American'], [18, 100, 'American'],\n",
       "  [18, 88, 'American'], [23, 95, 'American'], [11, 150, 'American'], [12, 167, 'American'],\n",
       "  [13, 170, 'American'], [12, 180, 'American'], [18, 100, 'American'], [21, 72, 'American'],\n",
       "  [19, 85, 'American'], [21, 107, 'American'], [15, 145, 'American'], [16, 230, 'American'],\n",
       "  [15, 150, 'American'], [11, 180, 'American'], [20, 95, 'American'], [21, null, 'American'],\n",
       "  [19, 100, 'American'], [15, 100, 'American'], [26, 80, 'American'], [25, 75, 'American'],\n",
       "  [16, 100, 'American'], [16, 110, 'American'], [18, 105, 'American'], [16, 140, 'American'],\n",
       "  [13, 150, 'American'], [14, 150, 'American'], [14, 140, 'American'], [14, 150, 'American'],\n",
       "  [28, 75, 'American'], [19, 95, 'American'], [18, 105, 'American'], [15, 72, 'American'],\n",
       "  [15, 72, 'American'], [16, 170, 'American'], [15, 145, 'American'], [16, 150, 'American'],\n",
       "  [14, 148, 'American'], [17, 110, 'American'], [16, 105, 'American'], [15, 110, 'American'],\n",
       "  [18, 95, 'American'], [21, 110, 'American'], [20, 110, 'American'], [13, 129, 'American'],\n",
       "  [23, 83, 'American'], [20, 100, 'American'], [23, 78, 'American'], [18, 97, 'American'],\n",
       "  [19, 90, 'American'], [25, 92, 'American'], [26, 79, 'American'], [17.5, 140, 'American'],\n",
       "  [16, 150, 'American'], [15.5, 120, 'American'], [14.5, 152, 'American'], [22, 100, 'American'],\n",
       "  [22, 105, 'American'], [24, 81, 'American'], [22.5, 90, 'American'], [29, 52, 'American'],\n",
       "  [24.5, 60, 'American'], [20, 100, 'American'], [18, 78, 'American'], [18.5, 110, 'American'],\n",
       "  [17.5, 95, 'American'], [26.5, 72, 'American'], [13, 150, 'American'], [16.5, 180, 'American'],\n",
       "  [13, 145, 'American'], [13, 130, 'American'], [13, 150, 'American'], [30, 80, 'American'],\n",
       "  [25.5, 96, 'American'], [17.5, 145, 'American'], [17, 110, 'American'], [15.5, 145, 'American'],\n",
       "  [15, 130, 'American'], [17.5, 110, 'American'], [20.5, 105, 'American'], [19, 100, 'American'],\n",
       "  [18.5, 98, 'American'], [16, 180, 'American'], [15.5, 170, 'American'], [15.5, 190, 'American'],\n",
       "  [16, 149, 'American'], [24.5, 88, 'American'], [25.5, 89, 'American'], [30.5, 63, 'American'],\n",
       "  [33.5, 83, 'American'], [36.1, 66, 'American'], [19.9, 110, 'American'], [19.4, 140, 'American'],\n",
       "  [20.2, 139, 'American'], [19.2, 105, 'American'], [20.5, 95, 'American'], [20.2, 85, 'American'],\n",
       "  [25.1, 88, 'American'], [20.5, 100, 'American'], [19.4, 90, 'American'], [20.6, 105, 'American'],\n",
       "  [20.8, 85, 'American'], [18.6, 110, 'American'], [18.1, 120, 'American'], [19.2, 145, 'American'],\n",
       "  [17.7, 165, 'American'], [18.1, 139, 'American'], [17.5, 140, 'American'], [30, 68, 'American'],\n",
       "  [30.9, 75, 'American'], [23.2, 105, 'American'], [23.8, 85, 'American'], [21.5, 115, 'American'],\n",
       "  [19.8, 85, 'American'], [22.3, 88, 'American'], [20.2, 90, 'American'], [20.6, 110, 'American'],\n",
       "  [17, 130, 'American'], [17.6, 129, 'American'], [16.5, 138, 'American'], [18.2, 135, 'American'],\n",
       "  [16.9, 155, 'American'], [15.5, 142, 'American'], [19.2, 125, 'American'], [18.5, 150, 'American'],\n",
       "  [35.7, 80, 'American'], [27.4, 80, 'American'], [23, 125, 'American'], [23.9, 90, 'American'],\n",
       "  [34.2, 70, 'American'], [34.5, 70, 'American'], [28.4, 90, 'American'], [28.8, 115, 'American'],\n",
       "  [26.8, 115, 'American'], [33.5, 90, 'American'], [32.1, 70, 'American'], [28, 90, 'American'],\n",
       "  [26.4, 88, 'American'], [24.3, 90, 'American'], [19.1, 90, 'American'], [27.9, 105, 'American'],\n",
       "  [23.6, null, 'American'], [27.2, 84, 'American'], [26.6, 84, 'American'], [25.8, 92, 'American'],\n",
       "  [23.5, 110, 'American'], [30, 84, 'American'], [39, 64, 'American'], [34.7, 63, 'American'],\n",
       "  [34.4, 65, 'American'], [29.9, 65, 'American'], [22.4, 110, 'American'], [26.6, 105, 'American'],\n",
       "  [20.2, 88, 'American'], [17.6, 85, 'American'], [28, 88, 'American'], [27, 88, 'American'],\n",
       "  [34, 88, 'American'], [31, 85, 'American'], [29, 84, 'American'], [27, 90, 'American'],\n",
       "  [24, 92, 'American'], [23, null, 'American'], [38, 63, 'American'], [36, 70, 'American'],\n",
       "  [25, 110, 'American'], [38, 85, 'American'], [26, 92, 'American'], [22, 112, 'American'],\n",
       "  [36, 84, 'American'], [27, 90, 'American'], [27, 86, 'American'], [32, 84, 'American'],\n",
       "  [28, 79, 'American'], [31, 82, 'American'], [null, 115, 'European'], [26, 46, 'European'],\n",
       "  [25, 87, 'European'], [24, 90, 'European'], [25, 95, 'European'], [26, 113, 'European'],\n",
       "  [null, 48, 'European'], [28, 90, 'European'], [30, 70, 'European'], [30, 76, 'European'],\n",
       "  [27, 60, 'European'], [23, 54, 'European'], [18, 112, 'European'], [22, 76, 'European'],\n",
       "  [21, 87, 'European'], [26, 69, 'European'], [26, 46, 'European'], [26, 90, 'European'],\n",
       "  [29, 49, 'European'], [24, 75, 'European'], [20, 91, 'European'], [19, 112, 'European'],\n",
       "  [24, 110, 'European'], [29, 83, 'European'], [26, 67, 'European'], [26, 78, 'European'],\n",
       "  [24, 75, 'European'], [26, 75, 'European'], [31, 67, 'European'], [25, 71, 'European'],\n",
       "  [29, 70, 'European'], [23, 95, 'European'], [23, 88, 'European'], [22, 98, 'European'],\n",
       "  [25, 115, 'European'], [28, 86, 'European'], [25, 81, 'European'], [27, 83, 'European'],\n",
       "  [29, 70, 'European'], [29.5, 71, 'European'], [20, 102, 'European'], [19, 88, 'European'],\n",
       "  [16.5, 120, 'European'], [36, 58, 'European'], [29, 78, 'European'], [30.5, 78, 'European'],\n",
       "  [21.5, 110, 'European'], [43.1, 48, 'European'], [20.3, 103, 'European'], [17, 125, 'European'],\n",
       "  [21.6, 115, 'European'], [16.2, 133, 'European'], [31.5, 71, 'European'], [31.9, 71, 'European'],\n",
       "  [25.4, 77, 'European'], [27.2, 71, 'European'], [37.3, 69, 'European'], [41.5, 76, 'European'],\n",
       "  [34.3, 78, 'European'], [44.3, 48, 'European'], [43.4, 48, 'European'], [36.4, 67, 'European'],\n",
       "  [30, 67, 'European'], [40.9, null, 'European'], [29.8, 62, 'European'], [35, 88, 'European'],\n",
       "  [33, 74, 'European'], [34.5, null, 'European'], [28.1, 80, 'European'], [null, 110, 'European'],\n",
       "  [30.7, 76, 'European'], [36, 74, 'European'], [44, 52, 'European'], [24, 95, 'Japanese'],\n",
       "  [27, 88, 'Japanese'], [27, 88, 'Japanese'], [25, 95, 'Japanese'], [31, 65, 'Japanese'],\n",
       "  [35, 69, 'Japanese'], [24, 95, 'Japanese'], [19, 97, 'Japanese'], [28, 92, 'Japanese'],\n",
       "  [23, 97, 'Japanese'], [27, 88, 'Japanese'], [20, 88, 'Japanese'], [22, 94, 'Japanese'],\n",
       "  [18, 90, 'Japanese'], [20, 122, 'Japanese'], [31, 67, 'Japanese'], [32, 65, 'Japanese'],\n",
       "  [31, 52, 'Japanese'], [32, 61, 'Japanese'], [24, 97, 'Japanese'], [26, 93, 'Japanese'],\n",
       "  [29, 75, 'Japanese'], [24, 96, 'Japanese'], [24, 97, 'Japanese'], [33, 53, 'Japanese'],\n",
       "  [33, 53, 'Japanese'], [32, 70, 'Japanese'], [28, 75, 'Japanese'], [19, 108, 'Japanese'],\n",
       "  [31.5, 68, 'Japanese'], [33.5, 70, 'Japanese'], [26, 75, 'Japanese'], [30, 67, 'Japanese'],\n",
       "  [22, 97, 'Japanese'], [21.5, 110, 'Japanese'], [32.8, 52, 'Japanese'], [39.4, 70, 'Japanese'],\n",
       "  [36.1, 60, 'Japanese'], [27.5, 95, 'Japanese'], [27.2, 97, 'Japanese'], [21.1, 95, 'Japanese'],\n",
       "  [23.9, 97, 'Japanese'], [29.5, 68, 'Japanese'], [34.1, 65, 'Japanese'], [31.8, 65, 'Japanese'],\n",
       "  [38.1, 60, 'Japanese'], [37.2, 65, 'Japanese'], [29.8, 90, 'Japanese'], [31.3, 75, 'Japanese'],\n",
       "  [37, 92, 'Japanese'], [32.2, 75, 'Japanese'], [46.6, 65, 'Japanese'], [40.8, 65, 'Japanese'],\n",
       "  [44.6, 67, 'Japanese'], [33.8, 67, 'Japanese'], [32.7, 132, 'Japanese'], [23.7, 100, 'Japanese'],\n",
       "  [32.4, 72, 'Japanese'], [39.1, 58, 'Japanese'], [35.1, 60, 'Japanese'], [32.3, 67, 'Japanese'],\n",
       "  [37, 65, 'Japanese'], [37.7, 62, 'Japanese'], [34.1, 68, 'Japanese'], [33.7, 75, 'Japanese'],\n",
       "  [32.4, 75, 'Japanese'], [32.9, 100, 'Japanese'], [31.6, 74, 'Japanese'], [25.4, 116, 'Japanese'],\n",
       "  [24.2, 120, 'Japanese'], [37, 68, 'Japanese'], [31, 68, 'Japanese'], [36, 88, 'Japanese'],\n",
       "  [36, 75, 'Japanese'], [34, 70, 'Japanese'], [38, 67, 'Japanese'], [32, 67, 'Japanese'],\n",
       "  [38, 67, 'Japanese'], [32, 96, 'Japanese']]\n",
       "};\n",
       "\n",
       "// Call Code to Build the system ///////////////////////////////////////////////////////////////////\n",
       "\n",
       "var v = new BrunelVis('visid03d4fb2a-764e-11e6-a3cb-90b11c8ffccb');\n",
       "var eventHandler = BrunelEventHandlers( v);\n",
       "eventHandler.make_filter_handler( {});\n",
       "v.build(table1);\n",
       "\n",
       "// Create and wire controls ////////////////////////////////////////////////////////////////////////\n",
       "\n",
       "$(function() {\n",
       "  $( '#controlsid03d4fb2b-764e-11e6-a3cb-90b11c8ffccb').append( BrunelJQueryControlFactory .make_range_slider( 'visid03d4fb2a-764e-11e6-a3cb-90b11c8ffccb', 'horsepower', 'Horsepower', null, null, v .data().field( 'horsepower'), false, null, null));\n",
       "\n",
       "});\n",
       "\n",
       "    });\n",
       "});"
      ],
      "text/plain": [
       "<IPython.core.display.Javascript object>"
      ]
     },
     "execution_count": 10,
     "metadata": {},
     "output_type": "execute_result"
    }
   ],
   "source": [
    "%brunel data('cars') x(mpg) y(horsepower) color(origin) filter(horsepower) tooltip(#all):: width=620, height=300"
   ]
  },
  {
   "cell_type": "markdown",
   "metadata": {
    "extensions": {
     "jupyter_dashboards": {
      "version": 1,
      "views": {
       "grid_default": {
        "col": 0,
        "height": 4,
        "hidden": false,
        "row": 13,
        "width": 4
       },
       "report_default": {
        "hidden": false
       }
      }
     }
    }
   },
   "source": [
    "## Acceleration vs. engine\n",
    "- with optional filter bar for accelaration\n",
    "- color hue for country of origin"
   ]
  },
  {
   "cell_type": "raw",
   "metadata": {
    "extensions": {
     "jupyter_dashboards": {
      "version": 1,
      "views": {
       "grid_default": {
        "hidden": true
       },
       "report_default": {
        "hidden": false
       }
      }
     }
    }
   },
   "source": [
    "%brunel data('dates_df') x(engine) y(acceleration) color(origin) filter(acceleration) tooltip(#all):: width=800, height=400"
   ]
  },
  {
   "cell_type": "code",
   "execution_count": 7,
   "metadata": {
    "collapsed": false,
    "extensions": {
     "jupyter_dashboards": {
      "version": 1,
      "views": {
       "grid_default": {
        "col": 0,
        "height": 14,
        "hidden": false,
        "row": 17,
        "width": 5
       },
       "report_default": {
        "hidden": false
       }
      }
     }
    }
   },
   "outputs": [
    {
     "data": {
      "text/html": [
       "<!--\n",
       "  ~ Copyright (c) 2015 IBM Corporation and others.\n",
       "  ~\n",
       "  ~ Licensed under the Apache License, Version 2.0 (the \"License\");\n",
       "  ~ You may not use this file except in compliance with the License.\n",
       "  ~ You may obtain a copy of the License at\n",
       "  ~\n",
       "  ~     http://www.apache.org/licenses/LICENSE-2.0\n",
       "  ~\n",
       "  ~ Unless required by applicable law or agreed to in writing, software\n",
       "  ~ distributed under the License is distributed on an \"AS IS\" BASIS,\n",
       "  ~ WITHOUT WARRANTIES OR CONDITIONS OF ANY KIND, either express or implied.\n",
       "  ~ See the License for the specific language governing permissions and\n",
       "  ~ limitations under the License.\n",
       "  -->\n",
       "\n",
       "\n",
       "<link rel=\"stylesheet\" type=\"text/css\" href=\"/nbextensions/brunel_ext/brunel.2.0.css\">\n",
       "<link rel=\"stylesheet\" type=\"text/css\" href=\"/nbextensions/brunel_ext/sumoselect.css\">\n",
       "\n",
       "<style>\n",
       "    \n",
       "</style>\n",
       "\n",
       "<div id=\"controlsid9aff1fa5-764d-11e6-a3cb-90b11c8ffccb\" class=\"brunel\"/>\n",
       "<svg id=\"visid9aff1fa4-764d-11e6-a3cb-90b11c8ffccb\" width=\"400\" height=\"200\"></svg>"
      ],
      "text/plain": [
       "<IPython.core.display.HTML object>"
      ]
     },
     "metadata": {},
     "output_type": "display_data"
    },
    {
     "data": {
      "application/javascript": [
       "/*\n",
       " * Copyright (c) 2015 IBM Corporation and others.\n",
       " *\n",
       " * Licensed under the Apache License, Version 2.0 (the \"License\");\n",
       " * You may not use this file except in compliance with the License.\n",
       " * You may obtain a copy of the License at\n",
       " *\n",
       " *     http://www.apache.org/licenses/LICENSE-2.0\n",
       " *\n",
       " * Unless required by applicable law or agreed to in writing, software\n",
       " * distributed under the License is distributed on an \"AS IS\" BASIS,\n",
       " * WITHOUT WARRANTIES OR CONDITIONS OF ANY KIND, either express or implied.\n",
       " * See the License for the specific language governing permissions and\n",
       " * limitations under the License.\n",
       " */\n",
       "\n",
       "require.config({\n",
       "    waitSeconds: 60,\n",
       "    paths: {\n",
       "        'd3': '//cdnjs.cloudflare.com/ajax/libs/d3/4.2.1/d3.min',\n",
       "        'topojson': '//cdnjs.cloudflare.com/ajax/libs/topojson/1.6.20/topojson.min',\n",
       "        'brunel' : '/nbextensions/brunel_ext/brunel.2.0.min',\n",
       "        'brunelControls' : '/nbextensions/brunel_ext/brunel.controls.2.0.min'\n",
       "    },\n",
       "    shim: {\n",
       "       'brunel' : {\n",
       "            exports: 'BrunelD3',\n",
       "            deps: ['d3', 'topojson'],\n",
       "            init: function() {\n",
       "               return {\n",
       "                 BrunelD3 : BrunelD3,\n",
       "                 BrunelData : BrunelData\n",
       "              }\n",
       "            }\n",
       "        },\n",
       "       'brunelControls' : {\n",
       "            exports: 'BrunelEventHandlers',\n",
       "            init: function() {\n",
       "               return {\n",
       "                 BrunelEventHandlers: BrunelEventHandlers,\n",
       "                 BrunelJQueryControlFactory: BrunelJQueryControlFactory\n",
       "              }\n",
       "            }\n",
       "        }\n",
       "\n",
       "    }\n",
       "\n",
       "});\n",
       "\n",
       "require([\"d3\"], function(d3) {\n",
       "    require([\"brunel\", \"brunelControls\"], function(brunel, brunelControls) {\n",
       "        function  BrunelVis(visId) {\n",
       "  \"use strict\"; // Strict Mode\n",
       "  var datasets = [],                               // Array of datasets for the original data\n",
       "      pre = function(d, i) { return d },           // Default pre-process does nothing\n",
       "      post = function(d, i) { return d },          // Default post-process does nothing\n",
       "      transitionTime = 200,                        // Transition time for animations\n",
       "      charts = [],                                 // The charts in the system\n",
       "      hasData = function(d) {return d && (d.row != null || hasData(d.data))}, // Filters to data items\n",
       "      vis = d3.select('#' + visId).attr('class', 'brunel');  // the SVG container\n",
       "\n",
       "  // Define chart #1 in the visualization //////////////////////////////////////////////////////////\n",
       "\n",
       "  charts[0] = function(parentNode, filterRows) {\n",
       "    var geom = BrunelD3.geometry(parentNode || vis.node(), 0, 0, 1, 1, 5, 46, 39, 96),\n",
       "      elements = [];                               // Array of elements in this chart\n",
       "\n",
       "    // Define groups for the chart parts ///////////////////////////////////////////////////////////\n",
       "\n",
       "    var chart =  vis.append('g').attr('class', 'chart1')\n",
       "      .attr('transform','translate(' + geom.chart_left + ',' + geom.chart_top + ')');\n",
       "    var overlay = chart.append('g').attr('class', 'element')\n",
       "      .attr('class', 'overlay').style('cursor','move').style('fill','none').style('pointer-events','all');\n",
       "    var zoom = d3.zoom().scaleExtent([1/3,3]);\n",
       "    var zoomNode = overlay.append('rect').attr('class', 'overlay')\n",
       "      .attr('x', geom.inner_left).attr('y', geom.inner_top)\n",
       "      .attr('width', geom.inner_rawWidth).attr('height', geom.inner_rawHeight)\n",
       "      .call(zoom)\n",
       "      .node();\n",
       "    zoomNode.__zoom = d3.zoomIdentity;\n",
       "    chart.append('rect').attr('class', 'background').attr('width', geom.chart_right-geom.chart_left).attr('height', geom.chart_bottom-geom.chart_top);\n",
       "    var interior = chart.append('g').attr('class', 'interior')\n",
       "      .attr('transform','translate(' + geom.inner_left + ',' + geom.inner_top + ')')\n",
       "      .attr('clip-path', 'url(#clip_visid9aff1fa4-764d-11e6-a3cb-90b11c8ffccb_chart1_inner)');\n",
       "    interior.append('rect').attr('class', 'inner').attr('width', geom.inner_width).attr('height', geom.inner_height);\n",
       "    var gridGroup = interior.append('g').attr('class', 'grid');\n",
       "    var axes = chart.append('g').attr('class', 'axis')\n",
       "      .attr('transform','translate(' + geom.inner_left + ',' + geom.inner_top + ')');\n",
       "    var legends = chart.append('g').attr('class', 'legend')\n",
       "      .attr('transform','translate(' + (geom.chart_right-geom.chart_left - 3) + ',' + 0 + ')');\n",
       "    vis.append('clipPath').attr('id', 'clip_visid9aff1fa4-764d-11e6-a3cb-90b11c8ffccb_chart1_inner').append('rect')\n",
       "      .attr('x', 0).attr('y', 0)\n",
       "      .attr('width', geom.inner_rawWidth+1).attr('height', geom.inner_rawHeight+1);\n",
       "\n",
       "    // Scales //////////////////////////////////////////////////////////////////////////////////////\n",
       "\n",
       "    var scale_x = d3.scaleLinear()\n",
       "      .domain([50, 500.00005])\n",
       "      .range([0, geom.inner_width]);\n",
       "    var scale_inner = d3.scaleLinear().domain([0,1])\n",
       "      .range([-0.5, 0.5]);\n",
       "    var scale_y = d3.scaleLinear()\n",
       "      .domain([6, 26.000002])\n",
       "      .range([geom.inner_height, 0]);\n",
       "    var base_scales = [scale_x, scale_y];          // Untransformed original scales\n",
       "\n",
       "    // Axes ////////////////////////////////////////////////////////////////////////////////////////\n",
       "\n",
       "    axes.append('g').attr('class', 'x axis')\n",
       "      .attr('transform','translate(0,' + geom.inner_rawHeight + ')')\n",
       "      .attr('clip-path', 'url(#clip_visid9aff1fa4-764d-11e6-a3cb-90b11c8ffccb_chart1_haxis)');\n",
       "    vis.append('clipPath').attr('id', 'clip_visid9aff1fa4-764d-11e6-a3cb-90b11c8ffccb_chart1_haxis').append('polyline')\n",
       "      .attr('points', '-1,-1000, -1,-1 -5,5, -1000,5, -100,1000, 10000,1000 10000,-1000');\n",
       "    axes.select('g.axis.x').append('text').attr('class', 'title').text('Engine').style('text-anchor', 'middle')\n",
       "      .attr('x',geom.inner_rawWidth/2)\n",
       "      .attr('y', geom.inner_bottom - 2.0).attr('dy','-0.27em');\n",
       "    axes.append('g').attr('class', 'y axis')\n",
       "      .attr('clip-path', 'url(#clip_visid9aff1fa4-764d-11e6-a3cb-90b11c8ffccb_chart1_vaxis)');\n",
       "    vis.append('clipPath').attr('id', 'clip_visid9aff1fa4-764d-11e6-a3cb-90b11c8ffccb_chart1_vaxis').append('polyline')\n",
       "      .attr('points', '-1000,-10000, 10000,-10000, 10000,' + (geom.inner_rawHeight+1) + ', -1,' + (geom.inner_rawHeight+1) + ', -1,' + (geom.inner_rawHeight+5) + ', -1000,' + (geom.inner_rawHeight+5) );\n",
       "    axes.select('g.axis.y').append('text').attr('class', 'title').text('Acceleration').style('text-anchor', 'middle')\n",
       "      .attr('x',-geom.inner_rawHeight/2)\n",
       "      .attr('y', 4-geom.inner_left).attr('dy', '0.7em').attr('transform', 'rotate(270)');\n",
       "\n",
       "    var axis_bottom = d3.axisBottom(scale_x).tickSizeInner(3).tickPadding(3).tickSizeOuter(0)\n",
       "      .ticks(6);\n",
       "    var axis_left = d3.axisLeft(scale_y).tickSizeInner(3).tickPadding(3).tickSizeOuter(0);\n",
       "\n",
       "    function buildAxes(time) {\n",
       "      var axis_x = axes.select('g.axis.x');\n",
       "      BrunelD3.transition(axis_x, time).call(axis_bottom.scale(scale_x));\n",
       "      var axis_y = axes.select('g.axis.y');\n",
       "      BrunelD3.transition(axis_y, time).call(axis_left.scale(scale_y));\n",
       "    }\n",
       "    zoom.on('zoom', function(t, time) {\n",
       "        t = t ||BrunelD3.restrictZoom(d3.event.transform, geom, this);\n",
       "        scale_x = t.rescaleX(base_scales[0]);\n",
       "        scale_y = t.rescaleY(base_scales[1]);\n",
       "        zoomNode.__zoom = t;\n",
       "        build(time || -1);\n",
       "    });\n",
       "\n",
       "    // Define element #1 ///////////////////////////////////////////////////////////////////////////\n",
       "\n",
       "    elements[0] = function() {\n",
       "      var original, processed,           // data sets passed in and then transformed\n",
       "        element, data,                   // Brunel element information and brunel data\n",
       "        selection, merged;               // D3 selection and merged selection\n",
       "      var elementGroup = interior.append('g').attr('class', 'element1'),\n",
       "        main = elementGroup.append('g').attr('class', 'main'),\n",
       "        labels = BrunelD3.undoTransform(elementGroup.append('g').attr('class', 'labels').attr('aria-hidden', 'true'), elementGroup);\n",
       "\n",
       "      function makeData() {\n",
       "        original = datasets[0];\n",
       "        if (filterRows) original = original.retainRows(filterRows);\n",
       "        processed = pre(original, 0);\n",
       "        processed = post(processed, 0);\n",
       "        var f0 = processed.field('engine'),\n",
       "          f1 = processed.field('acceleration'),\n",
       "          f2 = processed.field('origin'),\n",
       "          f3 = processed.field('#row'),\n",
       "          f4 = processed.field('#selection');\n",
       "        var keyFunc = function(d) { return f3.value(d) };\n",
       "        data = {\n",
       "          engine:       function(d) { return f0.value(d.row) },\n",
       "          acceleration: function(d) { return f1.value(d.row) },\n",
       "          origin:       function(d) { return f2.value(d.row) },\n",
       "          $row:         function(d) { return f3.value(d.row) },\n",
       "          $selection:   function(d) { return f4.value(d.row) },\n",
       "          engine_f:     function(d) { return f0.valueFormatted(d.row) },\n",
       "          acceleration_f:function(d) { return f1.valueFormatted(d.row) },\n",
       "          origin_f:     function(d) { return f2.valueFormatted(d.row) },\n",
       "          $row_f:       function(d) { return f3.valueFormatted(d.row) },\n",
       "          $selection_f: function(d) { return f4.valueFormatted(d.row) },\n",
       "          _split:       function(d) { return f2.value(d.row) },\n",
       "          _key:         keyFunc,\n",
       "          _rows:        BrunelD3.makeRowsWithKeys(keyFunc, processed.rowCount())\n",
       "        };\n",
       "      }\n",
       "      // Aesthetic Functions\n",
       "      var scale_color = d3.scaleOrdinal()\n",
       "        .domain(['American', 'European', 'Japanese'])\n",
       "        .range([ '#00538A', '#C10020', '#F4C800', '#007D34', '#803E75', '#FF6800', \n",
       "          '#817066', '#FFB300', '#F6768E', '#93AA00', '#53377A', '#FF8E00', '#B32851', \n",
       "          '#CEA262', '#FF7A5C', '#7F180D', '#593315', '#F13A13', '#232C16']);\n",
       "      var color = function(d) { return scale_color(data.origin(d)) };\n",
       "      BrunelD3.addLegend(legends, 'Origin', scale_color, scale_color.domain());\n",
       "\n",
       "      // Build element from data ///////////////////////////////////////////////////////////////////\n",
       "\n",
       "      function build(transitionMillis) {\n",
       "        element = elements[0];\n",
       "        var w = geom.default_point_size;\n",
       "        var x = function(d) { return scale_x(data.engine(d))};\n",
       "        var h = geom.default_point_size;\n",
       "        var y = function(d) { return scale_y(data.acceleration(d))};\n",
       "        selection = main.selectAll('.element').data(data._rows, function(d) { return d.key});\n",
       "        var added = selection.enter().append('circle')\n",
       "          .attr('class', 'element point filled');\n",
       "\n",
       "        merged = selection.merge(added);\n",
       "        merged.filter(hasData).classed('selected', function(d) { return data.$selection(d) == '✓' });\n",
       "        BrunelD3.transition(merged, transitionMillis)\n",
       "          .attr('cx',function(d) { return scale_x(data.engine(d))})\n",
       "          .attr('cy',function(d) { return scale_y(data.acceleration(d))})\n",
       "          .attr('r',geom.default_point_size / 2)\n",
       "          .filter(hasData)                         // following only performed for data items\n",
       "          .style('fill', color);\n",
       "\n",
       "        var tooltipLabeling = {\n",
       "          method: 'box', location: ['center', 'top'], inside: true, align: 'middle', pad: 0, dy: 0.7,\n",
       "          fit: true, granularity: 0,\n",
       "          content: function(d) {\n",
       "            return d.row == null ? null : '<span class=\"title\">Engine: </span>'\n",
       "\t\t\t+ '<span class=\"field\">' + data.engine_f(d) + '</span>'\n",
       "\t\t\t+ '<br/>'\n",
       "\t\t\t+ '<span class=\"title\">Acceleration: </span>'\n",
       "\t\t\t+ '<span class=\"field\">' + data.acceleration_f(d) + '</span>'\n",
       "\t\t\t+ '<br/>'\n",
       "\t\t\t+ '<span class=\"title\">Origin: </span>'\n",
       "\t\t\t+ '<span class=\"field\">' + data.origin_f(d) + '</span>'\n",
       "          }\n",
       "        };\n",
       "        BrunelD3.addTooltip(merged, tooltipLabeling, geom);\n",
       "\n",
       "        BrunelD3.transition(selection.exit(), transitionMillis/3)\n",
       "          .style('opacity', 0.5).each( function() {\n",
       "            this.remove(); if (this.__label__) this.__label__.remove()\n",
       "        });\n",
       "      }\n",
       "\n",
       "      return {\n",
       "        data:           function() { return processed },\n",
       "        original:       function() { return original },\n",
       "        internal:       function() { return data },\n",
       "        selection:      function() { return merged },\n",
       "        makeData:       makeData,\n",
       "        build:          build,\n",
       "        chart:          function() { return charts[0] },\n",
       "        group:          function() { return elementGroup },\n",
       "        fields: {\n",
       "          x:            ['engine'],\n",
       "          y:            ['acceleration'],\n",
       "          key:          ['#row'],\n",
       "          color:        ['origin']\n",
       "        }\n",
       "      };\n",
       "    }();\n",
       "\n",
       "    function build(time, noData) {\n",
       "      var first = elements[0].data() == null;\n",
       "      if (first) time = 0; // No transition for first call\n",
       "      buildAxes(time);\n",
       "      if ((first || time > -1) && !noData)elements[0].makeData();\n",
       "      elements[0].build(time);\n",
       "    }\n",
       "\n",
       "    // Expose the following components of the chart\n",
       "    return {\n",
       "      elements : elements,\n",
       "      interior : interior,\n",
       "      scales: {x:scale_x, y:scale_y},\n",
       "      zoom: function(params, time) {\n",
       "          if (params) zoom.on('zoom').call(zoomNode, params, time);\n",
       "          return d3.zoomTransform(zoomNode);\n",
       "      },\n",
       "      build : build\n",
       "    };\n",
       "    }();\n",
       "\n",
       "  function setData(rowData, i) { datasets[i||0] = BrunelD3.makeData(rowData) }\n",
       "  function updateAll(time) { charts.forEach(function(x) {x.build(time || 0)}) }\n",
       "  function buildAll() {\n",
       "    for (var i=0;i<arguments.length;i++) setData(arguments[i], i);\n",
       "    updateAll(transitionTime);\n",
       "  }\n",
       "\n",
       "  return {\n",
       "    dataPreProcess:     function(f) { if (f) pre = f; return pre },\n",
       "    dataPostProcess:    function(f) { if (f) post = f; return post },\n",
       "    data:               function(d,i) { if (d) setData(d,i); return datasets[i||0] },\n",
       "    visId:              visId,\n",
       "    build:              buildAll,\n",
       "    rebuild:            updateAll,\n",
       "    charts:             charts\n",
       "  }\n",
       "}\n",
       "\n",
       "// Data Tables /////////////////////////////////////////////////////////////////////////////////////\n",
       "\n",
       "var table1 = {\n",
       "   names: ['engine', 'acceleration', 'origin'], \n",
       "   options: ['numeric', 'numeric', 'string'], \n",
       "   rows: [[307, 12, 'American'], [350, 11.5, 'American'], [318, 11, 'American'],\n",
       "  [304, 12, 'American'], [302, 10.5, 'American'], [429, 10, 'American'], [454, 9, 'American'],\n",
       "  [440, 8.5, 'American'], [455, 10, 'American'], [390, 8.5, 'American'], [350, 11.5, 'American'],\n",
       "  [351, 11, 'American'], [383, 10.5, 'American'], [360, 11, 'American'], [383, 10, 'American'],\n",
       "  [340, 8, 'American'], [302, 8, 'American'], [400, 9.5, 'American'], [455, 10, 'American'],\n",
       "  [198, 15.5, 'American'], [199, 15.5, 'American'], [200, 16, 'American'], [199, 15, 'American'],\n",
       "  [360, 14, 'American'], [307, 15, 'American'], [318, 13.5, 'American'], [304, 18.5, 'American'],\n",
       "  [140, 15.5, 'American'], [98, 19, 'American'], [232, 13, 'American'], [225, 15.5, 'American'],\n",
       "  [250, 15.5, 'American'], [250, 15.5, 'American'], [232, 15.5, 'American'], [350, 12, 'American'],\n",
       "  [400, 11.5, 'American'], [351, 13.5, 'American'], [318, 13, 'American'], [383, 11.5, 'American'],\n",
       "  [400, 12, 'American'], [400, 12, 'American'], [258, 13.5, 'American'], [140, 19, 'American'],\n",
       "  [250, 15, 'American'], [250, 14.5, 'American'], [122, 14, 'American'], [91, 20.5, 'American'],\n",
       "  [97.5, 17, 'American'], [140, 19.5, 'American'], [122, 16.5, 'American'], [350, 12, 'American'],\n",
       "  [400, 12, 'American'], [318, 13.5, 'American'], [351, 13, 'American'], [304, 11.5, 'American'],\n",
       "  [429, 11, 'American'], [350, 13.5, 'American'], [350, 13.5, 'American'], [400, 12.5, 'American'],\n",
       "  [304, 12.5, 'American'], [307, 14, 'American'], [302, 16, 'American'], [318, 14, 'American'],\n",
       "  [122, 16, 'American'], [98, 15, 'American'], [350, 13, 'American'], [304, 11.5, 'American'],\n",
       "  [350, 13, 'American'], [302, 14.5, 'American'], [318, 12.5, 'American'], [429, 11.5, 'American'],\n",
       "  [400, 12, 'American'], [351, 13, 'American'], [318, 14.5, 'American'], [440, 11, 'American'],\n",
       "  [455, 11, 'American'], [360, 11, 'American'], [225, 16.5, 'American'], [250, 18, 'American'],\n",
       "  [232, 16, 'American'], [250, 16.5, 'American'], [198, 16, 'American'], [400, 14, 'American'],\n",
       "  [400, 12.5, 'American'], [360, 13, 'American'], [350, 12.5, 'American'], [232, 15, 'American'],\n",
       "  [140, 19.5, 'American'], [122, 18.5, 'American'], [155, 14, 'American'], [350, 13, 'American'],\n",
       "  [400, 9.5, 'American'], [318, 11, 'American'], [350, 11, 'American'], [198, 16.5, 'American'],\n",
       "  [200, 17, 'American'], [232, 16, 'American'], [250, 17, 'American'], [122, 16.5, 'American'],\n",
       "  [140, 17, 'American'], [250, 17, 'American'], [258, 18, 'American'], [225, 16.5, 'American'],\n",
       "  [302, 14, 'American'], [350, 14.5, 'American'], [318, 13.5, 'American'], [302, 16, 'American'],\n",
       "  [304, 15.5, 'American'], [90, 14.5, 'American'], [225, 16, 'American'], [250, 16, 'American'],\n",
       "  [250, 21, 'American'], [250, 19.5, 'American'], [400, 11.5, 'American'], [350, 14, 'American'],\n",
       "  [318, 14.5, 'American'], [351, 13.5, 'American'], [231, 21, 'American'], [250, 18.5, 'American'],\n",
       "  [258, 19, 'American'], [225, 19, 'American'], [231, 15, 'American'], [262, 13.5, 'American'],\n",
       "  [302, 12, 'American'], [140, 17, 'American'], [232, 16, 'American'], [140, 18.5, 'American'],\n",
       "  [171, 14.5, 'American'], [232, 17, 'American'], [140, 14.9, 'American'], [98, 17.7, 'American'],\n",
       "  [305, 13, 'American'], [318, 13, 'American'], [304, 13.9, 'American'], [351, 12.8, 'American'],\n",
       "  [225, 15.4, 'American'], [250, 14.5, 'American'], [200, 17.6, 'American'], [232, 17.6, 'American'],\n",
       "  [85, 22.2, 'American'], [98, 22.1, 'American'], [225, 17.7, 'American'], [250, 21, 'American'],\n",
       "  [250, 16.2, 'American'], [258, 17.8, 'American'], [140, 13.6, 'American'], [318, 13.2, 'American'],\n",
       "  [350, 12.1, 'American'], [350, 12, 'American'], [302, 15, 'American'], [318, 14, 'American'],\n",
       "  [111, 14.8, 'American'], [122, 15.5, 'American'], [305, 12.5, 'American'], [260, 19, 'American'],\n",
       "  [318, 13.7, 'American'], [302, 14.9, 'American'], [250, 16.4, 'American'], [231, 16.9, 'American'],\n",
       "  [225, 17.7, 'American'], [250, 19, 'American'], [400, 11.1, 'American'], [350, 11.4, 'American'],\n",
       "  [400, 12.2, 'American'], [351, 14.5, 'American'], [151, 16, 'American'], [140, 15.8, 'American'],\n",
       "  [98, 17, 'American'], [98, 15.9, 'American'], [98, 14.4, 'American'], [260, 15.5, 'American'],\n",
       "  [318, 13.2, 'American'], [302, 12.8, 'American'], [231, 19.2, 'American'], [200, 18.2, 'American'],\n",
       "  [200, 15.8, 'American'], [140, 15.4, 'American'], [225, 17.2, 'American'], [232, 17.2, 'American'],\n",
       "  [231, 15.8, 'American'], [200, 16.7, 'American'], [225, 18.7, 'American'], [258, 15.1, 'American'],\n",
       "  [305, 13.2, 'American'], [231, 13.4, 'American'], [302, 11.2, 'American'], [318, 13.7, 'American'],\n",
       "  [98, 16.5, 'American'], [105, 14.5, 'American'], [156, 16.7, 'American'], [151, 17.6, 'American'],\n",
       "  [231, 15.4, 'American'], [200, 18.2, 'American'], [140, 17.3, 'American'], [232, 18.2, 'American'],\n",
       "  [225, 16.6, 'American'], [305, 15.4, 'American'], [302, 13.4, 'American'], [351, 13.2, 'American'],\n",
       "  [318, 15.2, 'American'], [350, 14.9, 'American'], [351, 14.3, 'American'], [267, 15, 'American'],\n",
       "  [360, 13, 'American'], [98, 14.4, 'American'], [121, 15, 'American'], [350, 17.4, 'American'],\n",
       "  [260, 22.2, 'American'], [105, 13.2, 'American'], [105, 14.9, 'American'], [151, 16, 'American'],\n",
       "  [173, 11.3, 'American'], [173, 12.9, 'American'], [151, 13.2, 'American'], [98, 15.5, 'American'],\n",
       "  [151, 16.5, 'American'], [140, 18.1, 'American'], [151, 20.1, 'American'], [225, 18.7, 'American'],\n",
       "  [156, 14.4, 'American'], [140, 14.3, 'American'], [135, 15.7, 'American'], [151, 16.4, 'American'],\n",
       "  [156, 14.4, 'American'], [173, 12.6, 'American'], [135, 12.9, 'American'], [86, 16.4, 'American'],\n",
       "  [105, 14.9, 'American'], [98, 16.2, 'American'], [98, 20.7, 'American'], [231, 15.8, 'American'],\n",
       "  [350, 19, 'American'], [200, 17.1, 'American'], [225, 16.6, 'American'], [112, 19.6, 'American'],\n",
       "  [112, 18.6, 'American'], [112, 18, 'American'], [112, 16.2, 'American'], [135, 16, 'American'],\n",
       "  [151, 18, 'American'], [140, 16.4, 'American'], [151, 20.5, 'American'], [105, 14.7, 'American'],\n",
       "  [98, 17.3, 'American'], [181, 16.4, 'American'], [262, 17, 'American'], [156, 14.5, 'American'],\n",
       "  [232, 14.7, 'American'], [135, 13, 'American'], [151, 17.3, 'American'], [140, 15.6, 'American'],\n",
       "  [135, 11.6, 'American'], [120, 18.6, 'American'], [119, 19.4, 'American'], [133, 17.5, 'European'],\n",
       "  [97, 20.5, 'European'], [110, 17.5, 'European'], [107, 14.5, 'European'], [104, 17.5, 'European'],\n",
       "  [121, 12.5, 'European'], [97, 20, 'European'], [116, 14, 'European'], [79, 19.5, 'European'],\n",
       "  [88, 14.5, 'European'], [97, 19, 'European'], [97, 23.5, 'European'], [121, 14.5, 'European'],\n",
       "  [121, 18, 'European'], [120, 19.5, 'European'], [96, 18, 'European'], [97, 21, 'European'],\n",
       "  [98, 15.5, 'European'], [68, 19.5, 'European'], [116, 15.5, 'European'], [114, 14, 'European'],\n",
       "  [121, 15.5, 'European'], [121, 14, 'European'], [98, 16.5, 'European'], [79, 15.5, 'European'],\n",
       "  [97, 14.5, 'European'], [90, 15.5, 'European'], [116, 14, 'European'], [79, 16, 'European'],\n",
       "  [90, 16.5, 'European'], [90, 14, 'European'], [115, 15, 'European'], [120, 17, 'European'],\n",
       "  [121, 14.5, 'European'], [121, 13.5, 'European'], [107, 15.5, 'European'], [116, 16.9, 'European'],\n",
       "  [101, 15.3, 'European'], [90, 14.2, 'European'], [97, 12.2, 'European'], [130, 15.7, 'European'],\n",
       "  [120, 21.9, 'European'], [168, 16.7, 'European'], [79, 18.6, 'European'], [97, 14.5, 'European'],\n",
       "  [97, 14.1, 'European'], [121, 12.8, 'European'], [90, 21.5, 'European'], [131, 15.9, 'European'],\n",
       "  [163, 13.6, 'European'], [121, 15.7, 'European'], [163, 15.8, 'European'], [89, 14.9, 'European'],\n",
       "  [89, 14, 'European'], [183, 20.1, 'European'], [141, 24.8, 'European'], [91, 14.7, 'European'],\n",
       "  [98, 14.7, 'European'], [97, 15.8, 'European'], [90, 21.7, 'European'], [90, 23.7, 'European'],\n",
       "  [121, 19.9, 'European'], [146, 21.8, 'European'], [85, 17.3, 'European'], [89, 15.3, 'European'],\n",
       "  [122, 15.1, 'European'], [105, 14.2, 'European'], [100, 15.8, 'European'], [141, 20.4, 'European'],\n",
       "  [121, 15.4, 'European'], [145, 19.6, 'European'], [105, 15.3, 'European'], [97, 24.6, 'European'],\n",
       "  [113, 15, 'Japanese'], [97, 14.5, 'Japanese'], [97, 14.5, 'Japanese'], [113, 14, 'Japanese'],\n",
       "  [71, 19, 'Japanese'], [72, 18, 'Japanese'], [113, 15.5, 'Japanese'], [70, 13.5, 'Japanese'],\n",
       "  [97, 17, 'Japanese'], [120, 14.5, 'Japanese'], [97, 16.5, 'Japanese'], [97, 19, 'Japanese'],\n",
       "  [108, 16.5, 'Japanese'], [70, 13.5, 'Japanese'], [156, 13.5, 'Japanese'], [79, 19, 'Japanese'],\n",
       "  [71, 21, 'Japanese'], [76, 16.5, 'Japanese'], [83, 19, 'Japanese'], [120, 15, 'Japanese'],\n",
       "  [108, 15.5, 'Japanese'], [97, 16, 'Japanese'], [134, 13.5, 'Japanese'], [119, 17, 'Japanese'],\n",
       "  [91, 17.5, 'Japanese'], [91, 17.4, 'Japanese'], [85, 17, 'Japanese'], [97, 16.4, 'Japanese'],\n",
       "  [156, 15.5, 'Japanese'], [98, 18.5, 'Japanese'], [85, 16.8, 'Japanese'], [97, 18.2, 'Japanese'],\n",
       "  [97, 16.4, 'Japanese'], [146, 14.5, 'Japanese'], [80, 13.5, 'Japanese'], [78, 19.4, 'Japanese'],\n",
       "  [85, 18.6, 'Japanese'], [91, 16.4, 'Japanese'], [134, 14.2, 'Japanese'], [119, 14.7, 'Japanese'],\n",
       "  [134, 14.8, 'Japanese'], [119, 14.9, 'Japanese'], [98, 16.6, 'Japanese'], [86, 15.2, 'Japanese'],\n",
       "  [85, 19.2, 'Japanese'], [89, 18.8, 'Japanese'], [86, 16.4, 'Japanese'], [134, 15.5, 'Japanese'],\n",
       "  [120, 17.5, 'Japanese'], [119, 15, 'Japanese'], [108, 15.2, 'Japanese'], [86, 17.9, 'Japanese'],\n",
       "  [85, 19.2, 'Japanese'], [91, 13.8, 'Japanese'], [97, 18, 'Japanese'], [168, 11.4, 'Japanese'],\n",
       "  [70, 12.5, 'Japanese'], [107, 17, 'Japanese'], [79, 16.9, 'Japanese'], [81, 16.1, 'Japanese'],\n",
       "  [97, 17.8, 'Japanese'], [85, 19.4, 'Japanese'], [89, 17.3, 'Japanese'], [91, 16, 'Japanese'],\n",
       "  [107, 14.4, 'Japanese'], [108, 16.8, 'Japanese'], [119, 14.8, 'Japanese'], [120, 18.3, 'Japanese'],\n",
       "  [168, 12.6, 'Japanese'], [146, 13.8, 'Japanese'], [91, 18.2, 'Japanese'], [91, 17.6, 'Japanese'],\n",
       "  [120, 14.5, 'Japanese'], [107, 14.5, 'Japanese'], [108, 16.9, 'Japanese'], [91, 15, 'Japanese'],\n",
       "  [91, 15.7, 'Japanese'], [91, 16.2, 'Japanese'], [144, 13.9, 'Japanese']]\n",
       "};\n",
       "\n",
       "// Call Code to Build the system ///////////////////////////////////////////////////////////////////\n",
       "\n",
       "var v = new BrunelVis('visid9aff1fa4-764d-11e6-a3cb-90b11c8ffccb');\n",
       "var eventHandler = BrunelEventHandlers( v);\n",
       "eventHandler.make_filter_handler( {});\n",
       "v.build(table1);\n",
       "\n",
       "// Create and wire controls ////////////////////////////////////////////////////////////////////////\n",
       "\n",
       "$(function() {\n",
       "  $( '#controlsid9aff1fa5-764d-11e6-a3cb-90b11c8ffccb').append( BrunelJQueryControlFactory .make_range_slider( 'visid9aff1fa4-764d-11e6-a3cb-90b11c8ffccb', 'acceleration', 'Acceleration', null, null, v .data().field( 'acceleration'), false, null, null));\n",
       "\n",
       "});\n",
       "\n",
       "    });\n",
       "});"
      ],
      "text/plain": [
       "<IPython.core.display.Javascript object>"
      ]
     },
     "execution_count": 7,
     "metadata": {},
     "output_type": "execute_result"
    }
   ],
   "source": [
    "%brunel data('cars') x(engine) y(acceleration) color(origin) filter(acceleration) tooltip(#all):: width=400, height=200"
   ]
  },
  {
   "cell_type": "markdown",
   "metadata": {
    "extensions": {
     "jupyter_dashboards": {
      "version": 1,
      "views": {
       "grid_default": {
        "col": 8,
        "height": 4,
        "hidden": false,
        "row": 16,
        "width": 4
       },
       "report_default": {
        "hidden": false
       }
      }
     }
    }
   },
   "source": [
    "### Observation:\n",
    "- American cars tends to have larger engines\n",
    "- Negative correlation with acceleration & engine"
   ]
  },
  {
   "cell_type": "markdown",
   "metadata": {
    "extensions": {
     "jupyter_dashboards": {
      "version": 1,
      "views": {
       "grid_default": {
        "col": 0,
        "height": 6,
        "hidden": false,
        "row": 31,
        "width": 5
       },
       "report_default": {
        "hidden": false
       }
      }
     }
    }
   },
   "source": [
    "## View individual car's acceleration by bubble chart\n",
    "- size of bubble: acceleration\n",
    "- color hue: year\n",
    "- bubble text: car name"
   ]
  },
  {
   "cell_type": "raw",
   "metadata": {
    "extensions": {
     "jupyter_dashboards": {
      "version": 1,
      "views": {
       "grid_default": {
        "hidden": true
       },
       "report_default": {
        "hidden": false
       }
      }
     }
    }
   },
   "source": [
    "%brunel data('cars') bubble color(year) size(acceleration) sort(year) label(name) tooltip(name,#all) style('* {font-size: 5pt}') :: width=800, height=800"
   ]
  },
  {
   "cell_type": "code",
   "execution_count": 4,
   "metadata": {
    "collapsed": false,
    "extensions": {
     "jupyter_dashboards": {
      "version": 1,
      "views": {
       "grid_default": {
        "col": 1,
        "height": 27,
        "hidden": false,
        "row": 37,
        "width": 9
       },
       "report_default": {
        "hidden": false
       }
      }
     }
    }
   },
   "outputs": [
    {
     "data": {
      "text/html": [
       "<!--\n",
       "  ~ Copyright (c) 2015 IBM Corporation and others.\n",
       "  ~\n",
       "  ~ Licensed under the Apache License, Version 2.0 (the \"License\");\n",
       "  ~ You may not use this file except in compliance with the License.\n",
       "  ~ You may obtain a copy of the License at\n",
       "  ~\n",
       "  ~     http://www.apache.org/licenses/LICENSE-2.0\n",
       "  ~\n",
       "  ~ Unless required by applicable law or agreed to in writing, software\n",
       "  ~ distributed under the License is distributed on an \"AS IS\" BASIS,\n",
       "  ~ WITHOUT WARRANTIES OR CONDITIONS OF ANY KIND, either express or implied.\n",
       "  ~ See the License for the specific language governing permissions and\n",
       "  ~ limitations under the License.\n",
       "  -->\n",
       "\n",
       "\n",
       "<link rel=\"stylesheet\" type=\"text/css\" href=\"/nbextensions/brunel_ext/brunel.2.0.css\">\n",
       "<link rel=\"stylesheet\" type=\"text/css\" href=\"/nbextensions/brunel_ext/sumoselect.css\">\n",
       "\n",
       "<style>\n",
       "    #visid131c838a-764d-11e6-a3cb-90b11c8ffccb.brunel .chart1 * {\n",
       "\tfont-size: 5pt;\n",
       "}\n",
       "</style>\n",
       "\n",
       "<div id=\"controlsid131c838b-764d-11e6-a3cb-90b11c8ffccb\" class=\"brunel\"/>\n",
       "<svg id=\"visid131c838a-764d-11e6-a3cb-90b11c8ffccb\" width=\"800\" height=\"800\"></svg>"
      ],
      "text/plain": [
       "<IPython.core.display.HTML object>"
      ]
     },
     "metadata": {},
     "output_type": "display_data"
    },
    {
     "data": {
      "application/javascript": [
       "/*\n",
       " * Copyright (c) 2015 IBM Corporation and others.\n",
       " *\n",
       " * Licensed under the Apache License, Version 2.0 (the \"License\");\n",
       " * You may not use this file except in compliance with the License.\n",
       " * You may obtain a copy of the License at\n",
       " *\n",
       " *     http://www.apache.org/licenses/LICENSE-2.0\n",
       " *\n",
       " * Unless required by applicable law or agreed to in writing, software\n",
       " * distributed under the License is distributed on an \"AS IS\" BASIS,\n",
       " * WITHOUT WARRANTIES OR CONDITIONS OF ANY KIND, either express or implied.\n",
       " * See the License for the specific language governing permissions and\n",
       " * limitations under the License.\n",
       " */\n",
       "\n",
       "require.config({\n",
       "    waitSeconds: 60,\n",
       "    paths: {\n",
       "        'd3': '//cdnjs.cloudflare.com/ajax/libs/d3/4.2.1/d3.min',\n",
       "        'topojson': '//cdnjs.cloudflare.com/ajax/libs/topojson/1.6.20/topojson.min',\n",
       "        'brunel' : '/nbextensions/brunel_ext/brunel.2.0.min',\n",
       "        'brunelControls' : '/nbextensions/brunel_ext/brunel.controls.2.0.min'\n",
       "    },\n",
       "    shim: {\n",
       "       'brunel' : {\n",
       "            exports: 'BrunelD3',\n",
       "            deps: ['d3', 'topojson'],\n",
       "            init: function() {\n",
       "               return {\n",
       "                 BrunelD3 : BrunelD3,\n",
       "                 BrunelData : BrunelData\n",
       "              }\n",
       "            }\n",
       "        },\n",
       "       'brunelControls' : {\n",
       "            exports: 'BrunelEventHandlers',\n",
       "            init: function() {\n",
       "               return {\n",
       "                 BrunelEventHandlers: BrunelEventHandlers,\n",
       "                 BrunelJQueryControlFactory: BrunelJQueryControlFactory\n",
       "              }\n",
       "            }\n",
       "        }\n",
       "\n",
       "    }\n",
       "\n",
       "});\n",
       "\n",
       "require([\"d3\"], function(d3) {\n",
       "    require([\"brunel\", \"brunelControls\"], function(brunel, brunelControls) {\n",
       "        function  BrunelVis(visId) {\n",
       "  \"use strict\"; // Strict Mode\n",
       "  var datasets = [],                               // Array of datasets for the original data\n",
       "      pre = function(d, i) { return d },           // Default pre-process does nothing\n",
       "      post = function(d, i) { return d },          // Default post-process does nothing\n",
       "      transitionTime = 200,                        // Transition time for animations\n",
       "      charts = [],                                 // The charts in the system\n",
       "      hasData = function(d) {return d && (d.row != null || hasData(d.data))}, // Filters to data items\n",
       "      vis = d3.select('#' + visId).attr('class', 'brunel');  // the SVG container\n",
       "\n",
       "  // Define chart #1 in the visualization //////////////////////////////////////////////////////////\n",
       "\n",
       "  charts[0] = function(parentNode, filterRows) {\n",
       "    var geom = BrunelD3.geometry(parentNode || vis.node(), 0, 0, 1, 1, 0, 0, 0, 54),\n",
       "      elements = [];                               // Array of elements in this chart\n",
       "\n",
       "    // Define groups for the chart parts ///////////////////////////////////////////////////////////\n",
       "\n",
       "    var chart =  vis.append('g').attr('class', 'chart1')\n",
       "      .attr('transform','translate(' + geom.chart_left + ',' + geom.chart_top + ')');\n",
       "    var overlay = chart.append('g').attr('class', 'element')\n",
       "      .attr('class', 'overlay').style('cursor','move').style('fill','none').style('pointer-events','all');\n",
       "    var zoom = d3.zoom().scaleExtent([1/3,3]);\n",
       "    var zoomNode = overlay.append('rect').attr('class', 'overlay')\n",
       "      .attr('x', geom.inner_left).attr('y', geom.inner_top)\n",
       "      .attr('width', geom.inner_rawWidth).attr('height', geom.inner_rawHeight)\n",
       "      .node();\n",
       "    zoomNode.__zoom = d3.zoomIdentity;\n",
       "    chart.append('rect').attr('class', 'background').attr('width', geom.chart_right-geom.chart_left).attr('height', geom.chart_bottom-geom.chart_top);\n",
       "    var interior = chart.append('g').attr('class', 'interior')\n",
       "      .attr('transform','translate(' + geom.inner_left + ',' + geom.inner_top + ')')\n",
       "      .attr('clip-path', 'url(#clip_visid131c838a-764d-11e6-a3cb-90b11c8ffccb_chart1_inner)');\n",
       "    interior.append('rect').attr('class', 'inner').attr('width', geom.inner_width).attr('height', geom.inner_height);\n",
       "    var gridGroup = interior.append('g').attr('class', 'grid');\n",
       "    var legends = chart.append('g').attr('class', 'legend')\n",
       "      .attr('transform','translate(' + (geom.chart_right-geom.chart_left - 3) + ',' + 0 + ')');\n",
       "    vis.append('clipPath').attr('id', 'clip_visid131c838a-764d-11e6-a3cb-90b11c8ffccb_chart1_inner').append('rect')\n",
       "      .attr('x', 0).attr('y', 0)\n",
       "      .attr('width', geom.inner_rawWidth+1).attr('height', geom.inner_rawHeight+1);\n",
       "    var scale_x = d3.scaleLinear(), scale_y = d3.scaleLinear();\n",
       "    var base_scales = [scale_x, scale_y];          // Untransformed original scales\n",
       "    zoom.on('zoom', function(t, time) {\n",
       "        t = t || d3.event.transform;\n",
       "        zoomNode.__zoom = t;\n",
       "        build(time || -1);\n",
       "    });\n",
       "\n",
       "    // Define element #1 ///////////////////////////////////////////////////////////////////////////\n",
       "\n",
       "    elements[0] = function() {\n",
       "      var original, processed,           // data sets passed in and then transformed\n",
       "        element, data,                   // Brunel element information and brunel data\n",
       "        selection, merged;               // D3 selection and merged selection\n",
       "      var elementGroup = interior.append('g').attr('class', 'element1'),\n",
       "        main = elementGroup.append('g').attr('class', 'main'),\n",
       "        labels = BrunelD3.undoTransform(elementGroup.append('g').attr('class', 'labels').attr('aria-hidden', 'true'), elementGroup);\n",
       "\n",
       "      function makeData() {\n",
       "        original = datasets[0];\n",
       "        if (filterRows) original = original.retainRows(filterRows);\n",
       "        processed = pre(original, 0)\n",
       "          .sort('year');\n",
       "        processed = post(processed, 0);\n",
       "        var f0 = processed.field('year'),\n",
       "          f1 = processed.field('acceleration'),\n",
       "          f2 = processed.field('name'),\n",
       "          f3 = processed.field('#row'),\n",
       "          f4 = processed.field('#selection');\n",
       "        var keyFunc = function(d) { return f3.value(d) };\n",
       "        data = {\n",
       "          year:         function(d) { return f0.value(d.row) },\n",
       "          acceleration: function(d) { return f1.value(d.row) },\n",
       "          name:         function(d) { return f2.value(d.row) },\n",
       "          $row:         function(d) { return f3.value(d.row) },\n",
       "          $selection:   function(d) { return f4.value(d.row) },\n",
       "          year_f:       function(d) { return f0.valueFormatted(d.row) },\n",
       "          acceleration_f:function(d) { return f1.valueFormatted(d.row) },\n",
       "          name_f:       function(d) { return f2.valueFormatted(d.row) },\n",
       "          $row_f:       function(d) { return f3.valueFormatted(d.row) },\n",
       "          $selection_f: function(d) { return f4.valueFormatted(d.row) },\n",
       "          _split:       function(d) { return f0.value(d.row)+ '|' + f1.value(d.row) },\n",
       "          _key:         keyFunc,\n",
       "          _rows:        BrunelD3.makeRowsWithKeys(keyFunc, processed.rowCount())\n",
       "        };\n",
       "      }\n",
       "      // Aesthetic Functions\n",
       "      var scale_color = d3.scaleLinear()\n",
       "        .domain([70, 71.5, 73, 74.5, 76, 77.5, 79, 80.5, 82])\n",
       "        .interpolate(d3.interpolateHcl)\n",
       "        .range([ '#045a8d', '#2b8cbe', '#74a9cf', '#bdc9e1', '#f8efe8', '#fef0d9', \n",
       "          '#fdcc8a', '#fc8d59', '#e34a33']);\n",
       "      var color = function(d) { return scale_color(data.year(d.data)) };\n",
       "      var scale_size = d3.scaleSqrt()\n",
       "        .domain([0, 24.800002])\n",
       "        .range([ 0.001, 1]);\n",
       "      var size = function(d) { return scale_size(data.acceleration(d.data)) };\n",
       "      BrunelD3.addLegend(legends, 'Year', scale_color, [82, 80, 78, 76, 74, 72, 70]);\n",
       "\n",
       "      // Build element from data ///////////////////////////////////////////////////////////////////\n",
       "\n",
       "      function build(transitionMillis) {\n",
       "        element = elements[0];\n",
       "        // Data structures for a bubble diagram\n",
       "        // Define bubble (hierarchy) data structures\n",
       "        var hierarchy = BrunelData.diagram_Hierarchical.makeByNestingFields(processed, 'acceleration'),\n",
       "        tree = d3.hierarchy(hierarchy.root).sum(function(d) { return d.value });\n",
       "        var pack = d3.pack().size([geom.inner_width, geom.inner_height]);\n",
       "        main.attr('class', 'diagram bubble hierarchy');\n",
       "        var labeling = {\n",
       "          method: 'box', location: ['center', 'center'], inside: true, align: 'middle', pad: 3, dy: 0.3,\n",
       "          fit: true, granularity: 4,\n",
       "          content: function(d) {\n",
       "            return d.row == null ? null : data.name_f(d)\n",
       "          }\n",
       "        };\n",
       "        selection = main.selectAll('.element').data(pack(tree).descendants(), function(d) { return d.data.key == null ? data._key(d.data.row) : d.data.key});\n",
       "        var added = selection.enter().append('circle')\n",
       "          .attr('class', 'element point filled');\n",
       "        merged = selection.merge(added);\n",
       "        merged.filter(hasData).classed('selected', function(d) { return data.$selection(d) == '✓' });\n",
       "        BrunelD3.transition(merged, transitionMillis)\n",
       "          .attr('class', function(d) { return (d.children ? 'element L' + d.depth : 'leaf element point') })\n",
       "          .attr('cx', function(d) { return scale_x(d.x) })\n",
       "          .attr('cy', function(d) { return scale_y(d.y) })\n",
       "          .attr('r', function(d) { return scale_x(d.r) - scale_x(0) })\n",
       "          .filter(hasData)                         // following only performed for data items\n",
       "          .style('fill', color);\n",
       "        BrunelD3.label(merged, labels, labeling, transitionMillis, geom);\n",
       "\n",
       "        var tooltipLabeling = {\n",
       "          method: 'box', location: ['center', 'top'], inside: true, align: 'middle', pad: 0, dy: 0.7,\n",
       "          fit: true, granularity: 0,\n",
       "          content: function(d) {\n",
       "            return d.row == null ? null : '<span class=\"title\">Name: </span>'\n",
       "\t\t\t+ '<span class=\"field\">' + data.name_f(d) + '</span>'\n",
       "\t\t\t+ '<br/>'\n",
       "\t\t\t+ '<span class=\"title\">Year: </span>'\n",
       "\t\t\t+ '<span class=\"field\">' + data.year_f(d) + '</span>'\n",
       "\t\t\t+ '<br/>'\n",
       "\t\t\t+ '<span class=\"title\">Acceleration: </span>'\n",
       "\t\t\t+ '<span class=\"field\">' + data.acceleration_f(d) + '</span>'\n",
       "          }\n",
       "        };\n",
       "        BrunelD3.addTooltip(merged, tooltipLabeling, geom);\n",
       "\n",
       "        BrunelD3.transition(selection.exit(), transitionMillis/3)\n",
       "          .style('opacity', 0.5).each( function() {\n",
       "            this.remove(); if (this.__label__) this.__label__.remove()\n",
       "        });\n",
       "      }\n",
       "\n",
       "      return {\n",
       "        data:           function() { return processed },\n",
       "        original:       function() { return original },\n",
       "        internal:       function() { return data },\n",
       "        selection:      function() { return merged },\n",
       "        makeData:       makeData,\n",
       "        build:          build,\n",
       "        chart:          function() { return charts[0] },\n",
       "        group:          function() { return elementGroup },\n",
       "        fields: {\n",
       "          key:          ['#row'],\n",
       "          color:        ['year'],\n",
       "          size:         ['acceleration']\n",
       "        }\n",
       "      };\n",
       "    }();\n",
       "\n",
       "    function build(time, noData) {\n",
       "      var first = elements[0].data() == null;\n",
       "      if (first) time = 0; // No transition for first call\n",
       "      if ((first || time > -1) && !noData)elements[0].makeData();\n",
       "      elements[0].build(time);\n",
       "    }\n",
       "\n",
       "    // Expose the following components of the chart\n",
       "    return {\n",
       "      elements : elements,\n",
       "      interior : interior,\n",
       "      zoom: function(params, time) {\n",
       "          if (params) zoom.on('zoom').call(zoomNode, params, time);\n",
       "          return d3.zoomTransform(zoomNode);\n",
       "      },\n",
       "      build : build\n",
       "    };\n",
       "    }();\n",
       "\n",
       "  function setData(rowData, i) { datasets[i||0] = BrunelD3.makeData(rowData) }\n",
       "  function updateAll(time) { charts.forEach(function(x) {x.build(time || 0)}) }\n",
       "  function buildAll() {\n",
       "    for (var i=0;i<arguments.length;i++) setData(arguments[i], i);\n",
       "    updateAll(transitionTime);\n",
       "  }\n",
       "\n",
       "  return {\n",
       "    dataPreProcess:     function(f) { if (f) pre = f; return pre },\n",
       "    dataPostProcess:    function(f) { if (f) post = f; return post },\n",
       "    data:               function(d,i) { if (d) setData(d,i); return datasets[i||0] },\n",
       "    visId:              visId,\n",
       "    build:              buildAll,\n",
       "    rebuild:            updateAll,\n",
       "    charts:             charts\n",
       "  }\n",
       "}\n",
       "\n",
       "// Data Tables /////////////////////////////////////////////////////////////////////////////////////\n",
       "\n",
       "var table1 = {\n",
       "   names: ['year', 'acceleration', 'name'], \n",
       "   options: ['numeric', 'numeric', 'string'], \n",
       "   rows: [[70, 12, 'chevrolet chevelle malibu'], [70, 11.5, 'buick skylark 320'],\n",
       "  [70, 11, 'plymouth satellite'], [70, 12, 'amc rebel sst'], [70, 10.5, 'ford torino'],\n",
       "  [70, 10, 'ford galaxie 500'], [70, 9, 'chevrolet impala'], [70, 8.5, 'plymouth fury iii'],\n",
       "  [70, 10, 'pontiac catalina'], [70, 8.5, 'amc ambassador dpl'],\n",
       "  [70, 11.5, 'chevrolet chevelle concours (sw)'], [70, 11, 'ford torino (sw)'],\n",
       "  [70, 10.5, 'plymouth satellite (sw)'], [70, 11, 'amc rebel sst (sw)'],\n",
       "  [70, 10, 'dodge challenger se'], [70, 8, 'plymouth cuda 340'], [70, 8, 'ford mustang boss 302'],\n",
       "  [70, 9.5, 'chevrolet monte carlo'], [70, 10, 'buick estate wagon (sw)'],\n",
       "  [70, 15.5, 'plymouth duster'], [70, 15.5, 'amc hornet'], [70, 16, 'ford maverick'],\n",
       "  [70, 15, 'amc gremlin'], [70, 14, 'ford f250'], [70, 15, 'chevy c20'], [70, 13.5, 'dodge d200'],\n",
       "  [70, 18.5, 'hi 1200d'], [71, 15.5, 'chevrolet vega 2300'], [71, 19, 'ford pinto'],\n",
       "  [71, 13, 'amc gremlin'], [71, 15.5, 'plymouth satellite custom'],\n",
       "  [71, 15.5, 'chevrolet chevelle malibu'], [71, 15.5, 'ford torino 500'], [71, 15.5, 'amc matador'],\n",
       "  [71, 12, 'chevrolet impala'], [71, 11.5, 'pontiac catalina brougham'],\n",
       "  [71, 13.5, 'ford galaxie 500'], [71, 13, 'plymouth fury iii'], [71, 11.5, 'dodge monaco (sw)'],\n",
       "  [71, 12, 'ford country squire (sw)'], [71, 12, 'pontiac safari (sw)'],\n",
       "  [71, 13.5, 'amc hornet sportabout (sw)'], [71, 19, 'chevrolet vega (sw)'],\n",
       "  [71, 15, 'pontiac firebird'], [71, 14.5, 'ford mustang'], [71, 14, 'mercury capri 2000'],\n",
       "  [71, 20.5, 'plymouth cricket'], [72, 17, 'dodge colt hardtop'], [72, 19.5, 'chevrolet vega'],\n",
       "  [72, 16.5, 'ford pinto runabout'], [72, 12, 'chevrolet impala'], [72, 12, 'pontiac catalina'],\n",
       "  [72, 13.5, 'plymouth fury iii'], [72, 13, 'ford galaxie 500'], [72, 11.5, 'amc ambassador sst'],\n",
       "  [72, 11, 'mercury marquis'], [72, 13.5, 'buick lesabre custom'],\n",
       "  [72, 13.5, 'oldsmobile delta 88 royale'], [72, 12.5, 'chrysler newport royal'],\n",
       "  [72, 12.5, 'amc matador (sw)'], [72, 14, 'chevrolet chevelle concours (sw)'],\n",
       "  [72, 16, 'ford gran torino (sw)'], [72, 14, 'plymouth satellite custom (sw)'],\n",
       "  [72, 16, 'ford pinto (sw)'], [72, 15, 'dodge colt (sw)'], [73, 13, 'buick century 350'],\n",
       "  [73, 11.5, 'amc matador'], [73, 13, 'chevrolet malibu'], [73, 14.5, 'ford gran torino'],\n",
       "  [73, 12.5, 'dodge coronet custom'], [73, 11.5, 'mercury marquis brougham'],\n",
       "  [73, 12, 'chevrolet caprice classic'], [73, 13, 'ford ltd'],\n",
       "  [73, 14.5, 'plymouth fury gran sedan'], [73, 11, 'chrysler new yorker brougham'],\n",
       "  [73, 11, 'buick electra 225 custom'], [73, 11, 'amc ambassador brougham'],\n",
       "  [73, 16.5, 'plymouth valiant'], [73, 18, 'chevrolet nova custom'], [73, 16, 'amc hornet'],\n",
       "  [73, 16.5, 'ford maverick'], [73, 16, 'plymouth duster'], [73, 14, 'chevrolet impala'],\n",
       "  [73, 12.5, 'ford country'], [73, 13, 'plymouth custom suburb'],\n",
       "  [73, 12.5, 'oldsmobile vista cruiser'], [73, 15, 'amc gremlin'], [73, 19.5, 'chevrolet vega'],\n",
       "  [73, 18.5, 'ford pinto'], [73, 14, 'mercury capri v6'], [73, 13, 'chevrolet monte carlo s'],\n",
       "  [73, 9.5, 'pontiac grand prix'], [73, 11, 'dodge dart custom'], [73, 11, 'oldsmobile omega'],\n",
       "  [74, 16.5, 'plymouth duster'], [74, 17, 'ford maverick'], [74, 16, 'amc hornet'],\n",
       "  [74, 17, 'chevrolet nova'], [74, 16.5, 'ford pinto'], [74, 17, 'chevrolet vega'],\n",
       "  [74, 17, 'chevrolet chevelle malibu classic'], [74, 18, 'amc matador'],\n",
       "  [74, 16.5, 'plymouth satellite sebring'], [74, 14, 'ford gran torino'],\n",
       "  [74, 14.5, 'buick century luxus (sw)'], [74, 13.5, 'dodge coronet custom (sw)'],\n",
       "  [74, 16, 'ford gran torino (sw)'], [74, 15.5, 'amc matador (sw)'], [74, 14.5, 'dodge colt'],\n",
       "  [75, 16, 'plymouth valiant custom'], [75, 16, 'chevrolet nova'], [75, 21, 'mercury monarch'],\n",
       "  [75, 19.5, 'ford maverick'], [75, 11.5, 'pontiac catalina'], [75, 14, 'chevrolet bel air'],\n",
       "  [75, 14.5, 'plymouth grand fury'], [75, 13.5, 'ford ltd'], [75, 21, 'buick century'],\n",
       "  [75, 18.5, 'chevroelt chevelle malibu'], [75, 19, 'amc matador'], [75, 19, 'plymouth fury'],\n",
       "  [75, 15, 'buick skyhawk'], [75, 13.5, 'chevrolet monza 2+2'], [75, 12, 'ford mustang ii'],\n",
       "  [75, 17, 'ford pinto'], [75, 16, 'amc gremlin'], [75, 18.5, 'pontiac astro'],\n",
       "  [75, 14.5, 'ford pinto'], [75, 17, 'amc pacer'], [76, 14.9, 'capri ii'], [76, 17.7, 'dodge colt'],\n",
       "  [76, 13, 'chevrolet chevelle malibu classic'], [76, 13, 'dodge coronet brougham'],\n",
       "  [76, 13.9, 'amc matador'], [76, 12.8, 'ford gran torino'], [76, 15.4, 'plymouth valiant'],\n",
       "  [76, 14.5, 'chevrolet nova'], [76, 17.6, 'ford maverick'], [76, 17.6, 'amc hornet'],\n",
       "  [76, 22.2, 'chevrolet chevette'], [76, 22.1, 'chevrolet woody'], [76, 17.7, 'dodge aspen se'],\n",
       "  [76, 21, 'ford granada ghia'], [76, 16.2, 'pontiac ventura sj'], [76, 17.8, 'amc pacer d/l'],\n",
       "  [76, 13.6, 'ford pinto'], [76, 13.2, 'plymouth volare premier v8'], [76, 12.1, 'cadillac seville'],\n",
       "  [76, 12, 'chevy c10'], [76, 15, 'ford f108'], [76, 14, 'dodge d100'],\n",
       "  [77, 14.8, 'buick opel isuzu deluxe'], [77, 15.5, 'plymouth arrow gs'],\n",
       "  [77, 12.5, 'chevrolet caprice classic'], [77, 19, 'oldsmobile cutlass supreme'],\n",
       "  [77, 13.7, 'dodge monaco brougham'], [77, 14.9, 'mercury cougar brougham'],\n",
       "  [77, 16.4, 'chevrolet concours'], [77, 16.9, 'buick skylark'],\n",
       "  [77, 17.7, 'plymouth volare custom'], [77, 19, 'ford granada'],\n",
       "  [77, 11.1, 'pontiac grand prix lj'], [77, 11.4, 'chevrolet monte carlo landau'],\n",
       "  [77, 12.2, 'chrysler cordoba'], [77, 14.5, 'ford thunderbird'], [77, 16, 'pontiac sunbird coupe'],\n",
       "  [77, 15.8, 'ford mustang ii 2+2'], [77, 17, 'chevrolet chevette'], [77, 15.9, 'dodge colt m/m'],\n",
       "  [78, 14.4, 'ford fiesta'], [78, 15.5, 'oldsmobile cutlass salon brougham'],\n",
       "  [78, 13.2, 'dodge diplomat'], [78, 12.8, 'mercury monarch ghia'], [78, 19.2, 'pontiac phoenix lj'],\n",
       "  [78, 18.2, 'chevrolet malibu'], [78, 15.8, 'ford fairmont (auto)'],\n",
       "  [78, 15.4, 'ford fairmont (man)'], [78, 17.2, 'plymouth volare'], [78, 17.2, 'amc concord'],\n",
       "  [78, 15.8, 'buick century special'], [78, 16.7, 'mercury zephyr'], [78, 18.7, 'dodge aspen'],\n",
       "  [78, 15.1, 'amc concord d/l'], [78, 13.2, 'chevrolet monte carlo landau'],\n",
       "  [78, 13.4, 'buick regal sport coupe (turbo)'], [78, 11.2, 'ford futura'],\n",
       "  [78, 13.7, 'dodge magnum xe'], [78, 16.5, 'chevrolet chevette'], [78, 14.5, 'dodge omni'],\n",
       "  [78, 16.7, 'plymouth sapporo'], [78, 17.6, 'oldsmobile starfire sx'],\n",
       "  [79, 15.4, 'pontiac lemans v6'], [79, 18.2, 'mercury zephyr 6'], [79, 17.3, 'ford fairmont 4'],\n",
       "  [79, 18.2, 'amc concord dl 6'], [79, 16.6, 'dodge aspen 6'],\n",
       "  [79, 15.4, 'chevrolet caprice classic'], [79, 13.4, 'ford ltd landau'],\n",
       "  [79, 13.2, 'mercury grand marquis'], [79, 15.2, 'dodge st. regis'],\n",
       "  [79, 14.9, 'buick estate wagon (sw)'], [79, 14.3, 'ford country squire (sw)'],\n",
       "  [79, 15, 'chevrolet malibu classic (sw)'], [79, 13, 'chrysler lebaron town @ country (sw)'],\n",
       "  [79, 14.4, 'dodge colt hatchback custom'], [79, 15, 'amc spirit dl'],\n",
       "  [79, 17.4, 'cadillac eldorado'], [79, 22.2, 'oldsmobile cutlass salon brougham'],\n",
       "  [79, 13.2, 'plymouth horizon'], [79, 14.9, 'plymouth horizon tc3'],\n",
       "  [79, 16, 'buick skylark limited'], [79, 11.3, 'chevrolet citation'],\n",
       "  [79, 12.9, 'oldsmobile omega brougham'], [79, 13.2, 'pontiac phoenix'],\n",
       "  [80, 15.5, 'chevrolet chevette'], [80, 16.5, 'chevrolet citation'], [80, 18.1, 'ford fairmont'],\n",
       "  [80, 20.1, 'amc concord'], [80, 18.7, 'dodge aspen'], [80, 14.4, 'dodge colt'],\n",
       "  [80, 14.3, 'ford mustang cobra'], [81, 15.7, 'plymouth reliant'], [81, 16.4, 'buick skylark'],\n",
       "  [81, 14.4, 'dodge aries wagon (sw)'], [81, 12.6, 'chevrolet citation'],\n",
       "  [81, 12.9, 'plymouth reliant'], [81, 16.4, 'plymouth champ'], [81, 14.9, 'plymouth horizon 4'],\n",
       "  [81, 16.2, 'ford escort 4w'], [81, 20.7, 'ford escort 2h'], [81, 15.8, 'buick century'],\n",
       "  [81, 19, 'oldsmobile cutlass ls'], [81, 17.1, 'ford granada gl'],\n",
       "  [81, 16.6, 'chrysler lebaron salon'], [82, 19.6, 'chevrolet cavalier'],\n",
       "  [82, 18.6, 'chevrolet cavalier wagon'], [82, 18, 'chevrolet cavalier 2-door'],\n",
       "  [82, 16.2, 'pontiac j2000 se hatchback'], [82, 16, 'dodge aries se'], [82, 18, 'pontiac phoenix'],\n",
       "  [82, 16.4, 'ford fairmont futura'], [82, 20.5, 'amc concord dl'],\n",
       "  [82, 14.7, 'plymouth horizon miser'], [82, 17.3, 'mercury lynx l'],\n",
       "  [82, 16.4, 'buick century limited'], [82, 17, 'oldsmobile cutlass ciera (diesel)'],\n",
       "  [82, 14.5, 'chrysler lebaron medallion'], [82, 14.7, 'ford granada l'],\n",
       "  [82, 13, 'dodge charger 2.2'], [82, 17.3, 'chevrolet camaro'], [82, 15.6, 'ford mustang gl'],\n",
       "  [82, 11.6, 'dodge rampage'], [82, 18.6, 'ford ranger'], [82, 19.4, 'chevy s-10'],\n",
       "  [70, 17.5, 'citroen ds-21 pallas'], [70, 20.5, 'volkswagen 1131 deluxe sedan'],\n",
       "  [70, 17.5, 'peugeot 504'], [70, 14.5, 'audi 100 ls'], [70, 17.5, 'saab 99e'],\n",
       "  [70, 12.5, 'bmw 2002'], [71, 20, 'volkswagen super beetle 117'], [71, 14, 'opel 1900'],\n",
       "  [71, 19.5, 'peugeot 304'], [71, 14.5, 'fiat 124b'], [71, 19, 'volkswagen model 111'],\n",
       "  [72, 23.5, 'volkswagen type 3'], [72, 14.5, 'volvo 145e (sw)'], [72, 18, 'volkswagen 411 (sw)'],\n",
       "  [72, 19.5, 'peugeot 504 (sw)'], [72, 18, 'renault 12 (sw)'], [73, 21, 'volkswagen super beetle'],\n",
       "  [73, 15.5, 'fiat 124 sport coupe'], [73, 19.5, 'fiat 128'], [73, 15.5, 'opel manta'],\n",
       "  [73, 14, 'audi 100ls'], [73, 15.5, 'volvo 144ea'], [73, 14, 'saab 99le'], [74, 16.5, 'audi fox'],\n",
       "  [74, 15.5, 'volkswagen dasher'], [74, 14.5, 'opel manta'], [74, 15.5, 'fiat 128'],\n",
       "  [74, 14, 'fiat 124 tc'], [74, 16, 'fiat x1.9'], [75, 16.5, 'volkswagen dasher'],\n",
       "  [75, 14, 'volkswagen rabbit'], [75, 15, 'audi 100ls'], [75, 17, 'peugeot 504'],\n",
       "  [75, 14.5, 'volvo 244dl'], [75, 13.5, 'saab 99le'], [76, 15.5, 'fiat 131'],\n",
       "  [76, 16.9, 'opel 1900'], [76, 15.3, 'renault 12tl'], [76, 14.2, 'vw rabbit'],\n",
       "  [76, 12.2, 'volkswagen rabbit'], [76, 15.7, 'volvo 245'], [76, 21.9, 'peugeot 504'],\n",
       "  [76, 16.7, 'mercedes-benz 280s'], [77, 18.6, 'renault 5 gtl'],\n",
       "  [77, 14.5, 'volkswagen rabbit custom'], [77, 14.1, 'volkswagen dasher'], [77, 12.8, 'bmw 320i'],\n",
       "  [78, 21.5, 'volkswagen rabbit custom diesel'], [78, 15.9, 'audi 5000'], [78, 13.6, 'volvo 264gl'],\n",
       "  [78, 15.7, 'saab 99gle'], [78, 15.8, 'peugeot 604sl'], [78, 14.9, 'volkswagen scirocco'],\n",
       "  [79, 14, 'vw rabbit custom'], [79, 20.1, 'mercedes benz 300d'], [79, 24.8, 'peugeot 504'],\n",
       "  [79, 14.7, 'fiat strada custom'], [80, 14.7, 'vw rabbit'], [80, 15.8, 'audi 4000'],\n",
       "  [80, 21.7, 'vw rabbit c (diesel)'], [80, 23.7, 'vw dasher (diesel)'],\n",
       "  [80, 19.9, 'audi 5000s (diesel)'], [80, 21.8, 'mercedes-benz 240d'],\n",
       "  [80, 17.3, 'renault lecar deluxe'], [80, 15.3, 'vokswagen rabbit'],\n",
       "  [80, 15.1, 'triumph tr7 coupe'], [81, 14.2, 'volkswagen jetta'], [81, 15.8, 'renault 18i'],\n",
       "  [81, 20.4, 'peugeot 505s turbo diesel'], [81, 15.4, 'saab 900s'], [81, 19.6, 'volvo diesel'],\n",
       "  [82, 15.3, 'volkswagen rabbit l'], [82, 24.6, 'vw pickup'], [70, 15, 'toyota corona mark ii'],\n",
       "  [70, 14.5, 'datsun pl510'], [71, 14.5, 'datsun pl510'], [71, 14, 'toyota corona'],\n",
       "  [71, 19, 'toyota corolla 1200'], [71, 18, 'datsun 1200'], [72, 15.5, 'toyota corona hardtop'],\n",
       "  [72, 13.5, 'mazda rx2 coupe'], [72, 17, 'datsun 510 (sw)'],\n",
       "  [72, 14.5, 'toyouta corona mark ii (sw)'], [72, 16.5, 'toyota corolla 1600 (sw)'],\n",
       "  [73, 19, 'toyota carina'], [73, 16.5, 'datsun 610'], [73, 13.5, 'maxda rx3'],\n",
       "  [73, 13.5, 'toyota mark ii'], [74, 19, 'datsun b210'], [74, 21, 'toyota corolla 1200'],\n",
       "  [74, 16.5, 'toyota corona'], [74, 19, 'datsun 710'], [74, 15, 'honda civic'], [74, 15.5, 'subaru'],\n",
       "  [75, 16, 'toyota corolla'], [75, 13.5, 'toyota corona'], [75, 17, 'datsun 710'],\n",
       "  [75, 17.5, 'honda civic cvcc'], [76, 17.4, 'honda civic'], [76, 17, 'datsun b-210'],\n",
       "  [76, 16.4, 'toyota corolla'], [76, 15.5, 'toyota mark ii'], [77, 18.5, 'honda accord cvcc'],\n",
       "  [77, 16.8, 'datsun f-10 hatchback'], [77, 18.2, 'toyota corolla liftback'],\n",
       "  [77, 16.4, 'subaru dl'], [77, 14.5, 'datsun 810'], [77, 13.5, 'mazda rx-4'],\n",
       "  [78, 19.4, 'mazda glc deluxe'], [78, 18.6, 'datsun b210 gx'], [78, 16.4, 'honda civic cvcc'],\n",
       "  [78, 14.2, 'toyota corona'], [78, 14.7, 'datsun 510'], [78, 14.8, 'toyota celica gt liftback'],\n",
       "  [78, 14.9, 'datsun 200-sx'], [78, 16.6, 'honda accord lx'], [79, 15.2, 'maxda glc deluxe'],\n",
       "  [79, 19.2, 'datsun 210'], [80, 18.8, 'toyota corolla tercel'], [80, 16.4, 'datsun 310'],\n",
       "  [80, 15.5, 'toyota corona liftback'], [80, 17.5, 'mazda 626'], [80, 15, 'datsun 510 hatchback'],\n",
       "  [80, 15.2, 'toyota corolla'], [80, 17.9, 'mazda glc'], [80, 19.2, 'datsun 210'],\n",
       "  [80, 13.8, 'honda civic 1500 gl'], [80, 18, 'subaru dl'], [80, 11.4, 'datsun 280-zx'],\n",
       "  [80, 12.5, 'mazda rx-7 gs'], [80, 17, 'honda accord'], [81, 16.9, 'toyota starlet'],\n",
       "  [81, 16.1, 'honda civic 1300'], [81, 17.8, 'subaru'], [81, 19.4, 'datsun 210'],\n",
       "  [81, 17.3, 'toyota tercel'], [81, 16, 'mazda glc 4'], [81, 14.4, 'honda prelude'],\n",
       "  [81, 16.8, 'toyota corolla'], [81, 14.8, 'datsun 200sx'], [81, 18.3, 'mazda 626'],\n",
       "  [81, 12.6, 'toyota cressida'], [81, 13.8, 'datsun 810 maxima'], [82, 18.2, 'mazda glc custom l'],\n",
       "  [82, 17.6, 'mazda glc custom'], [82, 14.5, 'nissan stanza xe'], [82, 14.5, 'honda accord'],\n",
       "  [82, 16.9, 'toyota corolla'], [82, 15, 'honda civic'], [82, 15.7, 'honda civic (auto)'],\n",
       "  [82, 16.2, 'datsun 310 gx'], [82, 13.9, 'toyota celica gt']]\n",
       "};\n",
       "\n",
       "// Call Code to Build the system ///////////////////////////////////////////////////////////////////\n",
       "\n",
       "var v = new BrunelVis('visid131c838a-764d-11e6-a3cb-90b11c8ffccb');\n",
       "v.build(table1);\n",
       "\n",
       "    });\n",
       "});"
      ],
      "text/plain": [
       "<IPython.core.display.Javascript object>"
      ]
     },
     "execution_count": 4,
     "metadata": {},
     "output_type": "execute_result"
    }
   ],
   "source": [
    "%brunel data('cars') bubble color(year) size(acceleration) sort(year) label(name) tooltip(name,#all) style('* {font-size: 5pt}') :: width=800, height=800"
   ]
  },
  {
   "cell_type": "markdown",
   "metadata": {
    "collapsed": true,
    "extensions": {
     "jupyter_dashboards": {
      "version": 1,
      "views": {
       "grid_default": {
        "col": 0,
        "height": 43,
        "hidden": true,
        "row": 44,
        "width": 12
       },
       "report_default": {
        "hidden": true
       }
      }
     }
    }
   },
   "source": [
    "## Step 3: Dashboard Design\n",
    "\n",
    "### 3.1 Choose grid layout of notebook\n",
    "\n",
    "<img src=\"dashboard_1.png\">\n",
    "\n",
    "#### Layout of current notebook\n",
    "\n",
    "<img src=\"dashboard_2.png\">\n",
    "\n",
    "### 3.2 Delete unwanted cells by clicking the cross on the right hand side of the cell\n",
    "\n",
    "### 3.3 Shift cells either by dragging.\n",
    "\n",
    "### 3.4 Add in cells"
   ]
  },
  {
   "cell_type": "code",
   "execution_count": null,
   "metadata": {
    "collapsed": true,
    "extensions": {
     "jupyter_dashboards": {
      "version": 1,
      "views": {
       "grid_default": {
        "hidden": true
       },
       "report_default": {}
      }
     }
    }
   },
   "outputs": [],
   "source": []
  },
  {
   "cell_type": "code",
   "execution_count": null,
   "metadata": {
    "collapsed": true,
    "extensions": {
     "jupyter_dashboards": {
      "version": 1,
      "views": {
       "grid_default": {
        "hidden": true
       },
       "report_default": {}
      }
     }
    }
   },
   "outputs": [],
   "source": []
  },
  {
   "cell_type": "code",
   "execution_count": null,
   "metadata": {
    "collapsed": true,
    "extensions": {
     "jupyter_dashboards": {
      "version": 1,
      "views": {
       "grid_default": {
        "hidden": true
       },
       "report_default": {}
      }
     }
    }
   },
   "outputs": [],
   "source": []
  },
  {
   "cell_type": "code",
   "execution_count": null,
   "metadata": {
    "collapsed": true,
    "extensions": {
     "jupyter_dashboards": {
      "version": 1,
      "views": {
       "grid_default": {
        "hidden": true
       },
       "report_default": {}
      }
     }
    }
   },
   "outputs": [],
   "source": []
  }
 ],
 "metadata": {
  "extensions": {
   "jupyter_dashboards": {
    "activeView": "grid_default",
    "version": 1,
    "views": {
     "grid_default": {
      "cellMargin": 10,
      "defaultCellHeight": 20,
      "maxColumns": 12,
      "name": "grid",
      "type": "grid"
     },
     "report_default": {
      "name": "report",
      "type": "report"
     }
    }
   }
  },
  "kernelspec": {
   "display_name": "Python 2",
   "language": "python",
   "name": "python2"
  },
  "language_info": {
   "codemirror_mode": {
    "name": "ipython",
    "version": 2
   },
   "file_extension": ".py",
   "mimetype": "text/x-python",
   "name": "python",
   "nbconvert_exporter": "python",
   "pygments_lexer": "ipython2",
   "version": "2.7.9"
  }
 },
 "nbformat": 4,
 "nbformat_minor": 0
}
